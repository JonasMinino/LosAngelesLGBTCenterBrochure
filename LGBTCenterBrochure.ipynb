{
 "cells": [
  {
   "cell_type": "markdown",
   "id": "4cf953e5-e8f8-4c03-a5ef-549ec42199f2",
   "metadata": {},
   "source": [
    "Import the Libraries"
   ]
  },
  {
   "cell_type": "code",
   "execution_count": 1,
   "id": "292756a1-b02e-40ef-9a4c-ddee90846772",
   "metadata": {},
   "outputs": [],
   "source": [
    "import os\n",
    "import requests\n",
    "import json\n",
    "from typing import List\n",
    "from dotenv import load_dotenv\n",
    "from bs4 import BeautifulSoup\n",
    "from IPython.display import Markdown, display, update_display\n",
    "from openai import OpenAI"
   ]
  },
  {
   "cell_type": "markdown",
   "id": "706232ce-f297-4f17-942d-115bc822c4de",
   "metadata": {},
   "source": [
    "Initionalize the Constants"
   ]
  },
  {
   "cell_type": "code",
   "execution_count": 2,
   "id": "7eb2b6a2-ae4d-416a-9523-7e24e4dd27cc",
   "metadata": {},
   "outputs": [
    {
     "name": "stdout",
     "output_type": "stream",
     "text": [
      "API key looks good so far\n"
     ]
    }
   ],
   "source": [
    "load_dotenv()\n",
    "api_key = os.getenv('OPENAI_API_KEY')\n",
    "\n",
    "if api_key and api_key[:8]=='sk-proj-':\n",
    "    print(\"API key looks good so far\")\n",
    "else:\n",
    "    print(\"There might be a problem with your API key? Please visit the troubleshooting notebook!\")\n",
    "    \n",
    "MODEL = 'gpt-4o-mini'\n",
    "openai = OpenAI()"
   ]
  },
  {
   "cell_type": "markdown",
   "id": "5e9b460c-602e-472c-a39f-8c6ba3bf16f8",
   "metadata": {},
   "source": [
    "Getting all the links of a single website using the Website Class"
   ]
  },
  {
   "cell_type": "code",
   "execution_count": 3,
   "id": "48c85644-c84c-4ffb-add0-b67dcf2a9f69",
   "metadata": {},
   "outputs": [],
   "source": [
    "class Website:\n",
    "    \"\"\"\n",
    "    A utility class to represent a Website that we have scraped, now with links\n",
    "    \"\"\"\n",
    "\n",
    "    def __init__(self, url):\n",
    "        self.url = url\n",
    "        response = requests.get(url)\n",
    "        self.body = response.content\n",
    "        soup = BeautifulSoup(self.body, 'html.parser')\n",
    "        self.title = soup.title.string if soup.title else \"No title found\"\n",
    "        if soup.body:\n",
    "            for irrelevant in soup.body([\"script\", \"style\", \"img\", \"input\"]):\n",
    "                irrelevant.decompose()\n",
    "            self.text = soup.body.get_text(separator=\"\\n\", strip=True)\n",
    "        else:\n",
    "            self.text = \"\"\n",
    "        links = [link.get('href') for link in soup.find_all('a')]\n",
    "        self.links = [link for link in links if link]\n",
    "\n",
    "    def get_contents(self):\n",
    "        return f\"Webpage Title:\\n{self.title}\\nWebpage Contents:\\n{self.text}\\n\\n\""
   ]
  },
  {
   "cell_type": "code",
   "execution_count": 5,
   "id": "8c39fc6c-8205-4a5c-974e-ca738a14a1ab",
   "metadata": {},
   "outputs": [
    {
     "data": {
      "text/plain": [
       "['#MainContent',\n",
       " '/events/',\n",
       " '/about/locations',\n",
       " '/?s=',\n",
       " 'https://lalgbtcenter.org',\n",
       " 'https://www.instagram.com/lalgbtcenter/',\n",
       " 'https://www.facebook.com/lalgbtcenter/',\n",
       " 'https://twitter.com/LALGBTCenter/',\n",
       " 'https://lalgbtcenter.followmyhealth.com/',\n",
       " 'https://volunteer.lalgbtcenter.org/',\n",
       " 'https://seniors.lalgbtcenter.org/#/login',\n",
       " 'https://translounge.org/trans-lounge-membership/',\n",
       " 'https://lalgbtcenter.org/',\n",
       " 'https://lalgbtcenter.org/es/',\n",
       " 'https://donate.lalgbtcenter.org/donate/',\n",
       " 'https://lalgbtcenter.org/services/',\n",
       " '#',\n",
       " 'https://lalgbtcenter.org/our-services/',\n",
       " 'https://lalgbtcenter.org/services/youth-services/',\n",
       " '#',\n",
       " 'https://lalgbtcenter.org/services/youth-services/',\n",
       " 'https://lalgbtcenter.org/services/youth-services/housing/',\n",
       " 'https://lalgbtcenter.org/services/youth-services/drop-in-center/',\n",
       " 'https://lalgbtcenter.org/services/youth-services/education/',\n",
       " 'https://lalgbtcenter.org/services/youth-services/employment-assistance/',\n",
       " 'https://lalgbtcenter.org/services/youth-services/lifeworks-mentorship-program/',\n",
       " 'https://lalgbtcenter.org/services/youth-services/foster-youth-services-rise/',\n",
       " 'https://lalgbtcenter.org/services/senior-services/',\n",
       " '#',\n",
       " 'https://lalgbtcenter.org/services/senior-services/',\n",
       " 'https://lalgbtcenter.org/services/senior-services/housing/',\n",
       " 'https://lalgbtcenter.org/services/senior-services/case-management/',\n",
       " 'https://lalgbtcenter.org/services/senior-services/food-nutrition-services/',\n",
       " 'https://lalgbtcenter.org/services/senior-services/employment-assistance/',\n",
       " 'https://lalgbtcenter.org/services/senior-services/activities/',\n",
       " 'https://lalgbtcenter.org/services/transgender-services/',\n",
       " '#',\n",
       " 'https://lalgbtcenter.org/services/transgender-services/',\n",
       " 'https://lalgbtcenter.org/services/transgender-services/transgender-wellness-center/',\n",
       " 'https://lalgbtcenter.org/services/transgender-services/trans-lounge/',\n",
       " 'https://lalgbtcenter.org/services/transgender-services/employment-assistance/',\n",
       " 'https://lalgbtcenter.org/services/transgender-services/group-therapy/',\n",
       " 'https://lalgbtcenter.org/services/transgender-services/tgi-enby-resource-index/',\n",
       " 'https://lalgbtcenter.org/services/survivor-services/',\n",
       " '#',\n",
       " 'https://lalgbtcenter.org/services/survivor-services/',\n",
       " 'https://lalgbtcenter.org/services/survivor-services/hate-crimes-and-police-misconduct/',\n",
       " 'https://lalgbtcenter.org/services/survivor-services/domestic-violence-sexual-assault-and-stalking/',\n",
       " 'https://lalgbtcenter.org/services/medical-services/',\n",
       " '#',\n",
       " 'https://lalgbtcenter.org/services/medical-services/',\n",
       " 'https://lalgbtcenter.org/services/medical-services/primary-care/',\n",
       " 'https://lalgbtcenter.org/services/medical-services/hiv-care/',\n",
       " 'https://lalgbtcenter.org/services/medical-services/gender-affirming-care/',\n",
       " 'https://lalgbtcenter.org/services/medical-services/audre-lorde-health-program/',\n",
       " 'https://lalgbtcenter.org/services/medical-services/insurance-plans/',\n",
       " 'https://lalgbtcenter.org/services/medical-services/pharmacy/',\n",
       " 'https://lalgbtcenter.org/services/mental-health-psychiatry-services/',\n",
       " '#',\n",
       " 'https://lalgbtcenter.org/services/mental-health-psychiatry-services/',\n",
       " 'https://lalgbtcenter.org/services/mental-health-psychiatry-services/therapy/',\n",
       " 'https://lalgbtcenter.org/services/mental-health-psychiatry-services/psychiatry/',\n",
       " 'https://lalgbtcenter.org/services/mental-health-psychiatry-services/support-groups/',\n",
       " 'https://lalgbtcenter.org/programs/trainings/national-institute-for-lgbtq-ipv/',\n",
       " 'https://lalgbtcenter.org/services/medical-services/pharmacy/',\n",
       " 'https://lalgbtcenter.org/services/sexual-health-services/',\n",
       " '#',\n",
       " 'https://lalgbtcenter.org/services/sexual-health-services/',\n",
       " 'https://lalgbtcenter.org/services/sexual-health-services/hiv-testing/',\n",
       " 'https://lalgbtcenter.org/services/sexual-health-services/sti-testing-treatment/',\n",
       " 'https://lalgbtcenter.org/services/sexual-health-services/prep-pep-prescriptions/',\n",
       " 'https://lalgbtcenter.org/services/substance-use-recovery-services/',\n",
       " 'https://lalgbtcenter.org/services/legal-services/',\n",
       " '#',\n",
       " 'https://lalgbtcenter.org/services/legal-services/',\n",
       " 'https://lalgbtcenter.org/services/legal-services/legal-clinic-lawyer-referral/',\n",
       " 'https://lalgbtcenter.org/services/legal-services/immigrant-legal-services/',\n",
       " 'https://lalgbtcenter.org/services/legal-services/homeless-youth-housing-rights/',\n",
       " 'https://lalgbtcenter.org/services/legal-services/crime-violence-harassment/',\n",
       " 'https://lalgbtcenter.org/services/housing/',\n",
       " 'https://lalgbtcenter.org/our-programs/',\n",
       " '#',\n",
       " 'https://lalgbtcenter.org/our-programs/',\n",
       " 'https://lalgbtcenter.org/programs/policy-advocacy/',\n",
       " '#',\n",
       " 'https://lalgbtcenter.org/programs/policy-advocacy/',\n",
       " 'https://lalgbtcenter.org/programs/policy-advocacy/take-action/',\n",
       " 'https://lalgbtcenter.org/programs/trainings/national-institute-for-lgbtq-ipv/',\n",
       " 'https://lalgbtcenter.org/programs/policy-advocacy/voter-action/',\n",
       " 'https://lalgbtcenter.org/programs/community-support-groups/',\n",
       " '#',\n",
       " 'https://lalgbtcenter.org/programs/community-support-groups/',\n",
       " 'https://lalgbtcenter.org/programs/community-support-groups/support-groups/',\n",
       " 'https://lalgbtcenter.org/services/transgender-services/trans-lounge/',\n",
       " 'https://socialnet.lalgbtcenter.org/',\n",
       " 'https://lalgbtcenter.org/programs/community-support-groups/intersex-support/',\n",
       " 'https://lalgbtcenter.org/programs/community-support-groups/domestic-violence/',\n",
       " 'https://lalgbtcenter.org/programs/youth-schools/',\n",
       " '#',\n",
       " 'https://lalgbtcenter.org/programs/youth-schools/',\n",
       " 'https://lalgbtcenter.org/programs/youth-schools/lgbtq-students-allies/',\n",
       " 'https://lalgbtcenter.org/programs/youth-schools/educators-adults/',\n",
       " 'https://lalgbtcenter.org/programs/trainings/',\n",
       " '#',\n",
       " 'https://lalgbtcenter.org/programs/trainings/',\n",
       " 'https://lalgbtcenter.org/programs/trainings/national-institute-for-lgbtq-ipv/',\n",
       " 'https://lalgbtcenter.org/programs/trainings/lgbtq-competency-training-rise/',\n",
       " 'https://lalgbtcenter.org/programs/trainings/mental-health-internship-training/',\n",
       " 'https://lalgbtcenter.org/services/transgender-services/employment-assistance/',\n",
       " 'https://lalgbtcenter.org/programs/vocational-programs/',\n",
       " '#',\n",
       " 'https://lalgbtcenter.org/programs/vocational-programs/',\n",
       " 'https://lalgbtcenter.org/programs/vocational-programs/culinary-arts/',\n",
       " 'https://lalgbtcenter.org/programs/vocational-programs/social-services/',\n",
       " 'https://lalgbtcenter.org/programs/research/',\n",
       " 'https://www.aidslifecycle.org/',\n",
       " 'https://lalgbtcenter.org/vanguard/',\n",
       " '#',\n",
       " 'https://lalgbtcenter.org/vanguard/',\n",
       " 'https://lalgbtcenter.org/vanguard/collections/',\n",
       " 'https://lalgbtcenter.org/press-releases/',\n",
       " 'https://lalgbtcenter.org/events/',\n",
       " 'https://lalgbtcenter.org/get-involved/',\n",
       " '#',\n",
       " 'https://lalgbtcenter.org/get-involved/',\n",
       " 'https://lalgbtcenter.org/get-involved/volunteer/',\n",
       " 'https://lalgbtcenter.org/programs/policy-advocacy/',\n",
       " 'https://lalgbtcenter.org/services/youth-services/lifeworks-mentorship-program/',\n",
       " 'https://lalgbtcenter.org/get-involved/corporate-engagement/',\n",
       " 'https://lalgbtcenter.org/get-involved/make-a-legacy-gift/',\n",
       " 'https://lalgbtcenter.org/spaces/',\n",
       " 'https://lalgbtcenter.org/about/',\n",
       " '#',\n",
       " 'https://lalgbtcenter.org/about/',\n",
       " 'https://lalgbtcenter.org/about/client-stories/',\n",
       " 'https://lalgbtcenter.org/about/staff/',\n",
       " 'https://lalgbtcenter.org/about/contact-us/',\n",
       " 'https://lalgbtcenter.org/about/careers/',\n",
       " 'https://donate.lalgbtcenter.org/donate/',\n",
       " '#',\n",
       " '/?s=',\n",
       " 'https://lalgbtcenter.org/services/',\n",
       " '#',\n",
       " '#',\n",
       " 'https://lalgbtcenter.org/our-services/',\n",
       " 'https://lalgbtcenter.org/services/youth-services/',\n",
       " 'https://lalgbtcenter.org/services/youth-services/',\n",
       " 'https://lalgbtcenter.org/services/youth-services/housing/',\n",
       " 'https://lalgbtcenter.org/services/youth-services/drop-in-center/',\n",
       " 'https://lalgbtcenter.org/services/youth-services/education/',\n",
       " 'https://lalgbtcenter.org/services/youth-services/employment-assistance/',\n",
       " 'https://lalgbtcenter.org/services/youth-services/lifeworks-mentorship-program/',\n",
       " 'https://lalgbtcenter.org/services/youth-services/foster-youth-services-rise/',\n",
       " 'https://lalgbtcenter.org/services/senior-services/',\n",
       " 'https://lalgbtcenter.org/services/senior-services/',\n",
       " 'https://lalgbtcenter.org/services/senior-services/housing/',\n",
       " 'https://lalgbtcenter.org/services/senior-services/case-management/',\n",
       " 'https://lalgbtcenter.org/services/senior-services/food-nutrition-services/',\n",
       " 'https://lalgbtcenter.org/services/senior-services/employment-assistance/',\n",
       " 'https://lalgbtcenter.org/services/senior-services/activities/',\n",
       " 'https://lalgbtcenter.org/services/transgender-services/',\n",
       " 'https://lalgbtcenter.org/services/transgender-services/',\n",
       " 'https://lalgbtcenter.org/services/transgender-services/transgender-wellness-center/',\n",
       " 'https://lalgbtcenter.org/services/transgender-services/trans-lounge/',\n",
       " 'https://lalgbtcenter.org/services/transgender-services/employment-assistance/',\n",
       " 'https://lalgbtcenter.org/services/transgender-services/group-therapy/',\n",
       " 'https://lalgbtcenter.org/services/transgender-services/tgi-enby-resource-index/',\n",
       " 'https://lalgbtcenter.org/services/survivor-services/',\n",
       " 'https://lalgbtcenter.org/services/survivor-services/',\n",
       " 'https://lalgbtcenter.org/services/survivor-services/hate-crimes-and-police-misconduct/',\n",
       " 'https://lalgbtcenter.org/services/survivor-services/domestic-violence-sexual-assault-and-stalking/',\n",
       " 'https://lalgbtcenter.org/services/medical-services/',\n",
       " 'https://lalgbtcenter.org/services/medical-services/',\n",
       " 'https://lalgbtcenter.org/services/medical-services/primary-care/',\n",
       " 'https://lalgbtcenter.org/services/medical-services/hiv-care/',\n",
       " 'https://lalgbtcenter.org/services/medical-services/gender-affirming-care/',\n",
       " 'https://lalgbtcenter.org/services/medical-services/audre-lorde-health-program/',\n",
       " 'https://lalgbtcenter.org/services/medical-services/insurance-plans/',\n",
       " 'https://lalgbtcenter.org/services/medical-services/pharmacy/',\n",
       " 'https://lalgbtcenter.org/services/mental-health-psychiatry-services/',\n",
       " 'https://lalgbtcenter.org/services/mental-health-psychiatry-services/',\n",
       " 'https://lalgbtcenter.org/services/mental-health-psychiatry-services/therapy/',\n",
       " 'https://lalgbtcenter.org/services/mental-health-psychiatry-services/psychiatry/',\n",
       " 'https://lalgbtcenter.org/services/mental-health-psychiatry-services/support-groups/',\n",
       " 'https://lalgbtcenter.org/programs/trainings/national-institute-for-lgbtq-ipv/',\n",
       " 'https://lalgbtcenter.org/services/medical-services/pharmacy/',\n",
       " 'https://lalgbtcenter.org/services/sexual-health-services/',\n",
       " 'https://lalgbtcenter.org/services/sexual-health-services/',\n",
       " 'https://lalgbtcenter.org/services/sexual-health-services/hiv-testing/',\n",
       " 'https://lalgbtcenter.org/services/sexual-health-services/sti-testing-treatment/',\n",
       " 'https://lalgbtcenter.org/services/sexual-health-services/prep-pep-prescriptions/',\n",
       " 'https://lalgbtcenter.org/services/substance-use-recovery-services/',\n",
       " 'https://lalgbtcenter.org/services/legal-services/',\n",
       " 'https://lalgbtcenter.org/services/legal-services/',\n",
       " 'https://lalgbtcenter.org/services/legal-services/legal-clinic-lawyer-referral/',\n",
       " 'https://lalgbtcenter.org/services/legal-services/immigrant-legal-services/',\n",
       " 'https://lalgbtcenter.org/services/legal-services/homeless-youth-housing-rights/',\n",
       " 'https://lalgbtcenter.org/services/legal-services/crime-violence-harassment/',\n",
       " 'https://lalgbtcenter.org/services/housing/',\n",
       " 'https://lalgbtcenter.org/our-programs/',\n",
       " '#',\n",
       " '#',\n",
       " 'https://lalgbtcenter.org/our-programs/',\n",
       " 'https://lalgbtcenter.org/programs/policy-advocacy/',\n",
       " 'https://lalgbtcenter.org/programs/policy-advocacy/',\n",
       " 'https://lalgbtcenter.org/programs/policy-advocacy/take-action/',\n",
       " 'https://lalgbtcenter.org/programs/trainings/national-institute-for-lgbtq-ipv/',\n",
       " 'https://lalgbtcenter.org/programs/policy-advocacy/voter-action/',\n",
       " 'https://lalgbtcenter.org/programs/community-support-groups/',\n",
       " 'https://lalgbtcenter.org/programs/community-support-groups/',\n",
       " 'https://lalgbtcenter.org/programs/community-support-groups/support-groups/',\n",
       " 'https://lalgbtcenter.org/services/transgender-services/trans-lounge/',\n",
       " 'https://socialnet.lalgbtcenter.org/',\n",
       " 'https://lalgbtcenter.org/programs/community-support-groups/intersex-support/',\n",
       " 'https://lalgbtcenter.org/programs/community-support-groups/domestic-violence/',\n",
       " 'https://lalgbtcenter.org/programs/youth-schools/',\n",
       " 'https://lalgbtcenter.org/programs/youth-schools/',\n",
       " 'https://lalgbtcenter.org/programs/youth-schools/lgbtq-students-allies/',\n",
       " 'https://lalgbtcenter.org/programs/youth-schools/educators-adults/',\n",
       " 'https://lalgbtcenter.org/programs/trainings/',\n",
       " 'https://lalgbtcenter.org/programs/trainings/',\n",
       " 'https://lalgbtcenter.org/programs/trainings/national-institute-for-lgbtq-ipv/',\n",
       " 'https://lalgbtcenter.org/programs/trainings/lgbtq-competency-training-rise/',\n",
       " 'https://lalgbtcenter.org/programs/trainings/mental-health-internship-training/',\n",
       " 'https://lalgbtcenter.org/services/transgender-services/employment-assistance/',\n",
       " 'https://lalgbtcenter.org/programs/vocational-programs/',\n",
       " 'https://lalgbtcenter.org/programs/vocational-programs/',\n",
       " 'https://lalgbtcenter.org/programs/vocational-programs/culinary-arts/',\n",
       " 'https://lalgbtcenter.org/programs/vocational-programs/social-services/',\n",
       " 'https://lalgbtcenter.org/programs/research/',\n",
       " 'https://www.aidslifecycle.org/',\n",
       " 'https://lalgbtcenter.org/vanguard/',\n",
       " '#',\n",
       " '#',\n",
       " 'https://lalgbtcenter.org/vanguard/',\n",
       " 'https://lalgbtcenter.org/vanguard/collections/',\n",
       " 'https://lalgbtcenter.org/press-releases/',\n",
       " 'https://lalgbtcenter.org/events/',\n",
       " 'https://lalgbtcenter.org/get-involved/',\n",
       " '#',\n",
       " '#',\n",
       " 'https://lalgbtcenter.org/get-involved/',\n",
       " 'https://lalgbtcenter.org/get-involved/volunteer/',\n",
       " 'https://lalgbtcenter.org/programs/policy-advocacy/',\n",
       " 'https://lalgbtcenter.org/services/youth-services/lifeworks-mentorship-program/',\n",
       " 'https://lalgbtcenter.org/get-involved/corporate-engagement/',\n",
       " 'https://lalgbtcenter.org/get-involved/make-a-legacy-gift/',\n",
       " 'https://lalgbtcenter.org/spaces/',\n",
       " 'https://lalgbtcenter.org/about/',\n",
       " '#',\n",
       " '#',\n",
       " 'https://lalgbtcenter.org/about/',\n",
       " 'https://lalgbtcenter.org/about/client-stories/',\n",
       " 'https://lalgbtcenter.org/about/staff/',\n",
       " 'https://lalgbtcenter.org/about/contact-us/',\n",
       " 'https://lalgbtcenter.org/about/careers/',\n",
       " 'https://www.instagram.com/lalgbtcenter/',\n",
       " 'https://www.facebook.com/lalgbtcenter/',\n",
       " 'https://twitter.com/LALGBTCenter/',\n",
       " 'https://lalgbtcenter.followmyhealth.com/',\n",
       " 'https://volunteer.lalgbtcenter.org/',\n",
       " 'https://seniors.lalgbtcenter.org/#/login',\n",
       " 'https://translounge.org/trans-lounge-membership/',\n",
       " '/events/',\n",
       " '/about/locations',\n",
       " '/?s=',\n",
       " 'https://donate.lalgbtcenter.org/donate/',\n",
       " 'https://lalgbtcenter.org/event/trans-day-of-remembrance-2/',\n",
       " 'https://lalgbtcenter.org/vanguard/this-fall-mcdonald-wright-renovations-to-add-more-exam-rooms-improve-patient-experience/',\n",
       " 'https://lalgbtcenter.org/services/youth-services/',\n",
       " 'https://lalgbtcenter.org/services/senior-services/',\n",
       " 'https://lalgbtcenter.org/services/transgender-services/',\n",
       " 'https://lalgbtcenter.org/services/survivor-services/',\n",
       " 'https://lalgbtcenter.org/services/medical-services/',\n",
       " 'https://lalgbtcenter.org/services/mental-health-psychiatry-services/',\n",
       " 'https://lalgbtcenter.org/services/sexual-health-services/',\n",
       " 'https://lalgbtcenter.org/services/substance-use-recovery-services/',\n",
       " 'https://lalgbtcenter.org/services/legal-services/',\n",
       " 'https://lalgbtcenter.org/services/housing/',\n",
       " 'https://lalgbtcenter.org/programs/policy-advocacy/',\n",
       " 'https://lalgbtcenter.org/programs/community-support-groups/',\n",
       " 'https://lalgbtcenter.org/programs/youth-schools/',\n",
       " 'https://lalgbtcenter.org/programs/trainings/',\n",
       " 'https://lalgbtcenter.org/programs/vocational-programs/',\n",
       " 'https://lalgbtcenter.org/programs/research/',\n",
       " 'https://lalgbtcenter.org/vanguard/',\n",
       " 'https://lalgbtcenter.org/press-releases/',\n",
       " 'https://lalgbtcenter.org/vanguard/collections/',\n",
       " 'https://lalgbtcenter.org/events/',\n",
       " 'https://lalgbtcenter.org/get-involved/volunteer/',\n",
       " 'https://lalgbtcenter.org/programs/policy-advocacy/',\n",
       " 'https://lalgbtcenter.org/services/youth-services/lifeworks-mentorship-program/',\n",
       " 'https://lalgbtcenter.org/get-involved/corporate-engagement/',\n",
       " 'https://lalgbtcenter.org/get-involved/make-a-legacy-gift/',\n",
       " 'https://lalgbtcenter.org/spaces/',\n",
       " 'https://lalgbtcenter.org/about/',\n",
       " 'https://lalgbtcenter.org/about/client-stories/',\n",
       " 'https://lalgbtcenter.org/about/staff/',\n",
       " 'https://lalgbtcenter.org/about/contact-us/',\n",
       " 'https://donate.lalgbtcenter.org/',\n",
       " 'https://lalgbtcenter.org/programs/policy-advocacy/take-action/',\n",
       " 'https://volunteer.lalgbtcenter.org/',\n",
       " 'https://lalgbtcenter.org/services-programs/',\n",
       " 'https://lalgbtcenter.org/services/housing/',\n",
       " 'https://lalgbtcenter.org/services/medical-services/',\n",
       " 'https://lalgbtcenter.org/services/senior-services/',\n",
       " 'https://lalgbtcenter.org/services/housing/',\n",
       " 'https://lalgbtcenter.org/services/medical-services/',\n",
       " 'https://lalgbtcenter.org/services/senior-services/',\n",
       " 'https://lalgbtcenter.org/vanguard/collections/',\n",
       " 'https://lalgbtcenter.org/vanguard/we-will-get-through-this-rep-kamlager-dove-energizes-center-community-in-post-election-gathering/',\n",
       " 'https://lalgbtcenter.org/vanguard/collections/?filters=uncategorized#posts',\n",
       " 'https://lalgbtcenter.org/vanguard/we-will-get-through-this-rep-kamlager-dove-energizes-center-community-in-post-election-gathering/',\n",
       " 'https://lalgbtcenter.org/vanguard/we-will-get-through-this-rep-kamlager-dove-energizes-center-community-in-post-election-gathering/',\n",
       " 'https://lalgbtcenter.org/vanguard/intersex-awareness-day-kira-kull-val-hill/',\n",
       " 'https://lalgbtcenter.org/vanguard/collections/?filters=health-wellness#posts',\n",
       " 'https://lalgbtcenter.org/vanguard/intersex-awareness-day-kira-kull-val-hill/',\n",
       " 'https://lalgbtcenter.org/vanguard/intersex-awareness-day-kira-kull-val-hill/',\n",
       " 'https://lalgbtcenter.org/vanguard/bretman-rock-vincint-and-hundreds-of-lgbtq-youth-shine-at-32nd-annual-models-of-pride/',\n",
       " 'https://lalgbtcenter.org/vanguard/collections/?filters=events#posts',\n",
       " 'https://lalgbtcenter.org/vanguard/bretman-rock-vincint-and-hundreds-of-lgbtq-youth-shine-at-32nd-annual-models-of-pride/',\n",
       " 'https://lalgbtcenter.org/vanguard/bretman-rock-vincint-and-hundreds-of-lgbtq-youth-shine-at-32nd-annual-models-of-pride/',\n",
       " 'https://weather.com',\n",
       " 'https://stopviolence.lalgbtcenter.org/',\n",
       " 'https://donate.lalgbtcenter.org/donate/',\n",
       " 'https://lalgbtcenter.us1.list-manage.com/subscribe?u=ab1492f3e2e4eb1b3408105a2&id=3ef29eeb05',\n",
       " '/press-releases',\n",
       " '/contact-us',\n",
       " '/privacy-policy',\n",
       " '/sitemap_index.xml',\n",
       " '/terms-of-service',\n",
       " 'https://lalgbtcenter.org/about/careers/',\n",
       " '/privacy-policy#california-privacy',\n",
       " 'https://lalgbtcenter.org/about/annual-reports/',\n",
       " 'https://lalgbtcenter.org/accessibility-statement/',\n",
       " 'https://lalgbtcenter.org/patient-forms/',\n",
       " 'tel:3238605806',\n",
       " 'https://stopviolence.lalgbtcenter.org/',\n",
       " 'https://lalgbtcenter.org/?s=',\n",
       " 'https://lalgbtcenter.org/contact-us',\n",
       " 'tel:3238605806',\n",
       " 'https://stopviolence.lalgbtcenter.org/',\n",
       " 'https://lalgbtcenter.org/?s=',\n",
       " 'https://lalgbtcenter.org/contact-us']"
      ]
     },
     "execution_count": 5,
     "metadata": {},
     "output_type": "execute_result"
    }
   ],
   "source": [
    "web = Website(\"https://lalgbtcenter.org/\")\n",
    "web.links"
   ]
  },
  {
   "cell_type": "markdown",
   "id": "3972399a-5c1e-419a-b8b9-99c9b115b057",
   "metadata": {},
   "source": [
    "GPT-4o-mini System Prompt to filter the most relevant links for the brochure"
   ]
  },
  {
   "cell_type": "code",
   "execution_count": 6,
   "id": "ae41f704-d719-4167-9829-a6a1a0435cce",
   "metadata": {},
   "outputs": [],
   "source": [
    "link_system_prompt = \"You are provided with a list of links found on a webpage. \\\n",
    "You are able to decide which of the links would be most relevant to include in a brochure about the company, \\\n",
    "such as links to an About page, or a Company page, or Careers/Jobs pages.\\n\"\n",
    "link_system_prompt += \"You should respond in JSON as in this example:\"\n",
    "link_system_prompt += \"\"\"\n",
    "{\n",
    "    \"links\": [\n",
    "        {\"type\": \"about page\", \"url\": \"https://full.url/goes/here/about\"},\n",
    "        {\"type\": \"careers page\": \"url\": \"https://another.full.url/careers\"}\n",
    "    ]\n",
    "}\n",
    "\"\"\""
   ]
  },
  {
   "cell_type": "markdown",
   "id": "713e2c44-8425-41c6-a955-037cfc2980c0",
   "metadata": {},
   "source": [
    "GPT-4o-mini User Prompt to filter"
   ]
  },
  {
   "cell_type": "code",
   "execution_count": 7,
   "id": "b01c8dfe-0a58-4596-91d4-5f340d9f540f",
   "metadata": {},
   "outputs": [],
   "source": [
    "def get_links_user_prompt(website):\n",
    "    user_prompt = f\"Here is the list of links on the website of {website.url} - \"\n",
    "    user_prompt += \"please decide which of these are relevant web links for a brochure about the company, respond with the full https URL in JSON format. \\\n",
    "Do not include Terms of Service, Privacy, email links.\\n\"\n",
    "    user_prompt += \"Links (some might be relative links):\\n\"\n",
    "    user_prompt += \"\\n\".join(website.links)\n",
    "    return user_prompt"
   ]
  },
  {
   "cell_type": "markdown",
   "id": "db7b95a9-5392-41d2-8030-7d0a384c91a2",
   "metadata": {},
   "source": [
    "Get only the useful links for the brochure"
   ]
  },
  {
   "cell_type": "code",
   "execution_count": 8,
   "id": "c3fc022a-7f52-47c4-bf55-1abe202aa5af",
   "metadata": {},
   "outputs": [],
   "source": [
    "def get_links(url):\n",
    "    website = Website(url)\n",
    "    response = openai.chat.completions.create(\n",
    "        model=MODEL,\n",
    "        messages=[\n",
    "            {\"role\": \"system\", \"content\": link_system_prompt},\n",
    "            {\"role\": \"user\", \"content\": get_links_user_prompt(website)}\n",
    "      ],\n",
    "        response_format={\"type\": \"json_object\"}\n",
    "    )\n",
    "    result = response.choices[0].message.content\n",
    "    return json.loads(result)"
   ]
  },
  {
   "cell_type": "code",
   "execution_count": 10,
   "id": "39461d53-6943-49ef-9900-addcd7c0381e",
   "metadata": {},
   "outputs": [
    {
     "data": {
      "text/plain": [
       "{'links': [{'type': 'about page', 'url': 'https://lalgbtcenter.org/about/'},\n",
       "  {'type': 'careers page', 'url': 'https://lalgbtcenter.org/about/careers/'},\n",
       "  {'type': 'services page', 'url': 'https://lalgbtcenter.org/services/'},\n",
       "  {'type': 'programs page', 'url': 'https://lalgbtcenter.org/our-programs/'}]}"
      ]
     },
     "execution_count": 10,
     "metadata": {},
     "output_type": "execute_result"
    }
   ],
   "source": [
    "get_links('https://lalgbtcenter.org/')"
   ]
  },
  {
   "cell_type": "markdown",
   "id": "cbdc9fb1-d988-4c1e-9d1c-c1f34c79a4e3",
   "metadata": {},
   "source": [
    "Define Get All Details Function to get the details from the most important pages in the website"
   ]
  },
  {
   "cell_type": "code",
   "execution_count": 11,
   "id": "b78a12e1-10d5-4c86-95f7-ec006ed6dbd3",
   "metadata": {
    "scrolled": true
   },
   "outputs": [],
   "source": [
    "def get_all_details(url):\n",
    "    result = \"Landing page:\\n\"\n",
    "    result += Website(url).get_contents()\n",
    "    links = get_links(url)\n",
    "    print(\"Found links:\", links)\n",
    "    for link in links[\"links\"]:\n",
    "        result += f\"\\n\\n{link['type']}\\n\"\n",
    "        result += Website(link[\"url\"]).get_contents()\n",
    "    return result"
   ]
  },
  {
   "cell_type": "code",
   "execution_count": 13,
   "id": "6b366620-25c1-44e0-ac2c-42cde3c45942",
   "metadata": {},
   "outputs": [
    {
     "name": "stdout",
     "output_type": "stream",
     "text": [
      "Found links: {'links': [{'type': 'about page', 'url': 'https://lalgbtcenter.org/about/'}, {'type': 'careers page', 'url': 'https://lalgbtcenter.org/about/careers/'}, {'type': 'services page', 'url': 'https://lalgbtcenter.org/services/'}, {'type': 'programs page', 'url': 'https://lalgbtcenter.org/our-programs/'}, {'type': 'get involved page', 'url': 'https://lalgbtcenter.org/get-involved/'}]}\n"
     ]
    },
    {
     "data": {
      "text/plain": [
       "\"Landing page:\\nWebpage Title:\\nLos Angeles LGBT Center - A Safe Welcoming Space for LGBTQ+\\nWebpage Contents:\\nskip to main content\\nCalendar\\nLocations\\nSearch\\nPortal\\nPatient\\nVolunteer\\nSenior\\nTrans*Lounge\\nen\\nes\\nDonate\\nServices\\nView All Services\\nYouth Services\\nView All Youth Services\\nHousing\\nDrop-In Center\\nEducation\\nEmployment Assistance\\nLifeworks Mentorship Program\\nFoster Youth Services (RISE)\\nSenior Services\\nView All Senior Services\\nHousing\\nCase Management\\nFood & Nutrition Services\\nEmployment Assistance\\nActivities\\nTransgender Services\\nView All Transgender Services\\nTransgender Wellness Center\\nTrans* Lounge\\nEmployment Assistance\\nGroup Therapy\\nTGI/ENBY+ Resource Index\\nSurvivor Services\\nView All Survivor Services\\nHate Crimes and Police Misconduct\\nDomestic Violence, Sexual Assault, and Stalking\\nMedical Services\\nView All Medical Services\\nPrimary Care\\nHIV Care\\nGender Affirming Care\\nAudre Lorde Health Program\\nInsurance Plans\\nPharmacy\\nMental Health & Psychiatry Services\\nView all Mental Health & Psychiatry Services\\nTherapy\\nPsychiatry\\nSupport Groups\\nNational Institute for LGBTQ+ IPV\\nPharmacy\\nSexual Health Services\\nView All Sexual Health Services\\nHIV Testing\\nSTI Testing and Treatment\\nPrEP and PEP Prescriptions\\nSubstance Use & Recovery\\nLegal Services\\nView All Legal Services\\nLegal Clinic & Lawyer Referral\\nImmigrant Legal Services\\nHomeless Youth & Housing Rights\\nCrime, Violence, and Harassment\\nHousing\\nPrograms\\nView All Programs\\nPolicy & Advocacy\\nView All Policy & Advocacy\\nTake Action\\nNational Institute for LGBTQ+ IPV\\nVoter Action\\nCommunity & Support Groups\\nView All Community & Support Groups\\nGroup Therapy\\nTrans* Lounge\\nSocial Network Groups\\nIntersex Support\\nDomestic Violence\\nYouth & Schools\\nView All Youth & Schools\\nLGBTQ+ Students & Allies\\nEducators & Adults\\nTrainings & Technical Assistance\\nView All Trainings & Technical Assistance\\nLGBTQ+ Intimate Partner Violence\\nLGBTQ Competency Training (RISE)\\nMental Health Internship & Training\\nEmployment Assistance\\nVocational Programs\\nView All Vocational Programs\\nCulinary Arts\\nSocial Services\\nResearch\\nAIDS/LifeCycle\\nGet Informed\\nVanguard\\nArticles\\nPress Releases\\nArts & Events\\nGet Involved\\nView All Get Involved\\nVolunteer\\nPolicy & Advocacy\\nLifeworks Mentorship Program\\nCorporate Engagement\\nMake a Legacy Gift\\nBook an Event\\nAbout the Center\\nAbout the Center\\nClient Stories\\nOur Staff\\nContact & Locations\\nCareers\\nDonate\\nServices\\nBack\\nView All Services\\nYouth Services\\nView All Youth Services\\nHousing\\nDrop-In Center\\nEducation\\nEmployment Assistance\\nLifeworks Mentorship Program\\nFoster Youth Services (RISE)\\nSenior Services\\nView All Senior Services\\nHousing\\nCase Management\\nFood & Nutrition Services\\nEmployment Assistance\\nActivities\\nTransgender Services\\nView All Transgender Services\\nTransgender Wellness Center\\nTrans* Lounge\\nEmployment Assistance\\nGroup Therapy\\nTGI/ENBY+ Resource Index\\nSurvivor Services\\nView All Survivor Services\\nHate Crimes and Police Misconduct\\nDomestic Violence, Sexual Assault, and Stalking\\nMedical Services\\nView All Medical Services\\nPrimary Care\\nHIV Care\\nGender Affirming Care\\nAudre Lorde Health Program\\nInsurance Plans\\nPharmacy\\nMental Health & Psychiatry Services\\nView all Mental Health & Psychiatry Services\\nTherapy\\nPsychiatry\\nSupport Groups\\nNational Institute for LGBTQ+ IPV\\nPharmacy\\nSexual Health Services\\nView All Sexual Health Services\\nHIV Testing\\nSTI Testing and Treatment\\nPrEP and PEP Prescriptions\\nSubstance Use & Recovery\\nLegal Services\\nView All Legal Services\\nLegal Clinic & Lawyer Referral\\nImmigrant Legal Services\\nHomeless Youth & Housing Rights\\nCrime, Violence, and Harassment\\nHousing\\nPrograms\\nBack\\nView All Programs\\nPolicy & Advocacy\\nView All Policy & Advocacy\\nTake Action\\nNational Institute for LGBTQ+ IPV\\nVoter Action\\nCommunity & Support Groups\\nView All Community & Support Groups\\nGroup Therapy\\nTrans* Lounge\\nSocial Network Groups\\nIntersex Support\\nDomestic Violence\\nYouth & Schools\\nView All Youth & Schools\\nLGBTQ+ Students & Allies\\nEducators & Adults\\nTrainings & Technical Assistance\\nView All Trainings & Technical Assistance\\nLGBTQ+ Intimate Partner Violence\\nLGBTQ Competency Training (RISE)\\nMental Health Internship & Training\\nEmployment Assistance\\nVocational Programs\\nView All Vocational Programs\\nCulinary Arts\\nSocial Services\\nResearch\\nAIDS/LifeCycle\\nGet Informed\\nBack\\nVanguard\\nArticles\\nPress Releases\\nArts & Events\\nGet Involved\\nBack\\nView All Get Involved\\nVolunteer\\nPolicy & Advocacy\\nLifeworks Mentorship Program\\nCorporate Engagement\\nMake a Legacy Gift\\nBook an Event\\nAbout the Center\\nBack\\nAbout the Center\\nClient Stories\\nOur Staff\\nContact & Locations\\nCareers\\nPatient\\nVolunteer\\nSenior\\nTrans*Lounge\\nCalendar\\nLocations\\nSearch\\nDonate\\nTrans Day of Remembrance\\nJoin us on Nov. 20 to honor those we've lost to anti-trans violence.\\nRSVP Now\\nImproved and Expanded Patient Experiences Coming to McDonald/Wright in 2025\\nNew patient exam rooms, waiting areas to open in early 2025.\\nLearn More\\nHow Can We Help?\\nServices\\nPrograms\\nGet Informed\\nArts & Events\\nGet Involved\\nAbout\\nYouth Services\\nSenior Services\\nTransgender Services\\nSurvivor Services\\nMedical Services\\nMental Health & Psychiatry Services\\nSexual Health Services\\nSubstance Use and Recovery Services\\nLegal Services\\nHousing\\nPolicy & Advocacy\\nCommunity & Support Groups\\nYouth & Schools\\nTrainings & Technical Assistance\\nVocational Programs\\nResearch\\nVanguard\\nPress Releases\\nCollections\\nArts & Events\\nVolunteer\\nPolicy & Advocacy\\nLifeworks Mentorship Program\\nCorporate Engagement\\nMake a Legacy Gift\\nSpaces\\nAbout the Center\\nClient Stories\\nStaff\\nContact Us\\nHow You Can Help\\nYour support allows us to continue to provide a safe, welcoming space for those who need help—and hope—the most. Whether you choose to make a one-time or monthly donation, sign up for one of our many incredible volunteer opportunities, or even join our team, every gesture of support is appreciated.\\nDonate\\nTake Action Against Anti-LGBTQ+ Legislation\\nVolunteer at the Center\\nOur Reach\\n500,000\\nVisits to the Center in 2022\\n800\\nTeam Members\\nWorld's Largest\\nDirect Service Provider to LGBTQ+ People\\n117,286\\nMeals Prepared & Served by Culinary Arts\\n55,643\\nMedical & Mental Health Visits in FY23\\n500,000\\nVisits to the Center in 2022\\n800\\nTeam Members\\nWorld's Largest\\nDirect Service Provider to LGBTQ+ People\\n117,286\\nMeals Prepared & Served by Culinary Arts\\n55,643\\nMedical & Mental Health Visits in FY23\\nOur Community\\nWatch • 12:03\\nNicole Richie Volunteers at the Los Angeles LGBT Center\\nWant to take a tour of the Center from the comfort of your own home? Watch as Nicole visits with LGBTQ youth for a runway show, surprises a Senior Line Dance class, stops by our kitchen in Culinary Arts, auditions for the role of a lifetime in Cultural Arts, and gets a therapy lesson with Mental Health Services.\\nWatch • 12:03\\nNicole Richie Volunteers at the Los Angeles LGBT Center\\nWant to take a tour of the Center from the comfort of your own home? Watch as Nicole visits with LGBTQ youth for a runway show, surprises a Senior Line Dance class, stops by our kitchen in Culinary Arts, auditions for the role of a lifetime in Cultural Arts, and gets a therapy lesson with Mental Health Services.\\nFeatured Programs and Services\\nView All\\nHousing\\nMedical Services\\nSenior Services\\nHousing\\nMedical Services\\nSenior Services\\nThe Latest\\nView All\\nUncategorized\\n‘We Will Get Through This’: Rep. Kamlager-Dove Energizes Center Community in Post-Election Gathering\\nOn Nov. 7, the Los Angeles LGBT Center hosted a post-election community space to process the results of the 2024 presidential election and the return of Donald Trump to the White House. “Yesterday, the majority of voters in this country re-elected the most dangerous president to ever occupy the White House,” said CEO Joe Hollendoner […]\\nNov 8, 2024\\nHealth & Wellness\\n‘We’ve Always Existed’:\\xa0 Amplifying Intersex Voices on Intersex Awareness Day\\nIntersex Awareness Day, observed annually on October 26, marks a crucial moment for visibility and advocacy in the intersex community. The tradition began in 1996, commemorating the first public demonstration by intersex activists in Boston, which aimed to challenge harmful medical practices and the erasure of intersex people. Today, the day serves as a platform […]\\nOct 26, 2024\\n·\\xa0\\xa0Reid Nakamura\\nEvents\\nBretman Rock, VINCINT, and Hundreds of LGBTQ+ Youth Shine at 32nd Annual Models of Pride\\nOn October 20, the Los Angeles LGBT Center hosted its 32nd annual Models of Pride festival, transforming the Anita May Rosenstein Campus in Hollywood into a vibrant space for LGBTQ+ youth, families, and allies. Presented by BMO, this year’s event welcomed over 600 attendees for a day packed with workshops, performances, and awards that celebrated […]\\nOct 25, 2024\\n·\\xa0\\xa0Reid Nakamura\\nAction Name\\nJoin us in our mission to create a world where LGBTQ+ people thrive as healthy, equal, and complete members of society. If you are experiencing domestic violence, intimate partner abuse, or are a victim of a crime, reach out to our\\nSTOP Violence Program (SVP)\\n.\\nDonate Now\\nStay Up To Date\\nPress Releases\\nContact Us\\nPrivacy Policy\\nSite Map\\nTerms of Service\\nCareers\\nCalifornia Privacy Rights\\nAnnual Reports\\nAccessibility Statement\\nPatient Forms\\nIf you are experiencing domestic violence, intimate partner abuse, or are a victim of a crime, reach out to our\\nSTOP Violence Program (SVP).\\nCall 323-860-5806\\nLearn More\\nWelcome to our new website. We’ve moved things around so if you can’t find what you’re looking for, we want to help!\\nSearch Our Site\\nContact Us\\nIf you are experiencing domestic violence, intimate partner abuse, or are a victim of a crime, reach out to our\\nSTOP Violence Program (SVP).\\nCall 323-860-5806\\nLearn More\\nWelcome to our new website. We’ve moved things around so if you can’t find what you’re looking for, we want to help!\\nSearch Our Site\\nContact Us\\n\\n\\n\\nabout page\\nWebpage Title:\\nAbout the Center - Los Angeles LGBT Center\\nWebpage Contents:\\nskip to main content\\nCalendar\\nLocations\\nSearch\\nPortal\\nPatient\\nVolunteer\\nSenior\\nTrans*Lounge\\nen\\nes\\nDonate\\nServices\\nView All Services\\nYouth Services\\nView All Youth Services\\nHousing\\nDrop-In Center\\nEducation\\nEmployment Assistance\\nLifeworks Mentorship Program\\nFoster Youth Services (RISE)\\nSenior Services\\nView All Senior Services\\nHousing\\nCase Management\\nFood & Nutrition Services\\nEmployment Assistance\\nActivities\\nTransgender Services\\nView All Transgender Services\\nTransgender Wellness Center\\nTrans* Lounge\\nEmployment Assistance\\nGroup Therapy\\nTGI/ENBY+ Resource Index\\nSurvivor Services\\nView All Survivor Services\\nHate Crimes and Police Misconduct\\nDomestic Violence, Sexual Assault, and Stalking\\nMedical Services\\nView All Medical Services\\nPrimary Care\\nHIV Care\\nGender Affirming Care\\nAudre Lorde Health Program\\nInsurance Plans\\nPharmacy\\nMental Health & Psychiatry Services\\nView all Mental Health & Psychiatry Services\\nTherapy\\nPsychiatry\\nSupport Groups\\nNational Institute for LGBTQ+ IPV\\nPharmacy\\nSexual Health Services\\nView All Sexual Health Services\\nHIV Testing\\nSTI Testing and Treatment\\nPrEP and PEP Prescriptions\\nSubstance Use & Recovery\\nLegal Services\\nView All Legal Services\\nLegal Clinic & Lawyer Referral\\nImmigrant Legal Services\\nHomeless Youth & Housing Rights\\nCrime, Violence, and Harassment\\nHousing\\nPrograms\\nView All Programs\\nPolicy & Advocacy\\nView All Policy & Advocacy\\nTake Action\\nNational Institute for LGBTQ+ IPV\\nVoter Action\\nCommunity & Support Groups\\nView All Community & Support Groups\\nGroup Therapy\\nTrans* Lounge\\nSocial Network Groups\\nIntersex Support\\nDomestic Violence\\nYouth & Schools\\nView All Youth & Schools\\nLGBTQ+ Students & Allies\\nEducators & Adults\\nTrainings & Technical Assistance\\nView All Trainings & Technical Assistance\\nLGBTQ+ Intimate Partner Violence\\nLGBTQ Competency Training (RISE)\\nMental Health Internship & Training\\nEmployment Assistance\\nVocational Programs\\nView All Vocational Programs\\nCulinary Arts\\nSocial Services\\nResearch\\nAIDS/LifeCycle\\nGet Informed\\nVanguard\\nArticles\\nPress Releases\\nArts & Events\\nGet Involved\\nView All Get Involved\\nVolunteer\\nPolicy & Advocacy\\nLifeworks Mentorship Program\\nCorporate Engagement\\nMake a Legacy Gift\\nBook an Event\\nAbout the Center\\nAbout the Center\\nClient Stories\\nOur Staff\\nContact & Locations\\nCareers\\nDonate\\nServices\\nBack\\nView All Services\\nYouth Services\\nView All Youth Services\\nHousing\\nDrop-In Center\\nEducation\\nEmployment Assistance\\nLifeworks Mentorship Program\\nFoster Youth Services (RISE)\\nSenior Services\\nView All Senior Services\\nHousing\\nCase Management\\nFood & Nutrition Services\\nEmployment Assistance\\nActivities\\nTransgender Services\\nView All Transgender Services\\nTransgender Wellness Center\\nTrans* Lounge\\nEmployment Assistance\\nGroup Therapy\\nTGI/ENBY+ Resource Index\\nSurvivor Services\\nView All Survivor Services\\nHate Crimes and Police Misconduct\\nDomestic Violence, Sexual Assault, and Stalking\\nMedical Services\\nView All Medical Services\\nPrimary Care\\nHIV Care\\nGender Affirming Care\\nAudre Lorde Health Program\\nInsurance Plans\\nPharmacy\\nMental Health & Psychiatry Services\\nView all Mental Health & Psychiatry Services\\nTherapy\\nPsychiatry\\nSupport Groups\\nNational Institute for LGBTQ+ IPV\\nPharmacy\\nSexual Health Services\\nView All Sexual Health Services\\nHIV Testing\\nSTI Testing and Treatment\\nPrEP and PEP Prescriptions\\nSubstance Use & Recovery\\nLegal Services\\nView All Legal Services\\nLegal Clinic & Lawyer Referral\\nImmigrant Legal Services\\nHomeless Youth & Housing Rights\\nCrime, Violence, and Harassment\\nHousing\\nPrograms\\nBack\\nView All Programs\\nPolicy & Advocacy\\nView All Policy & Advocacy\\nTake Action\\nNational Institute for LGBTQ+ IPV\\nVoter Action\\nCommunity & Support Groups\\nView All Community & Support Groups\\nGroup Therapy\\nTrans* Lounge\\nSocial Network Groups\\nIntersex Support\\nDomestic Violence\\nYouth & Schools\\nView All Youth & Schools\\nLGBTQ+ Students & Allies\\nEducators & Adults\\nTrainings & Technical Assistance\\nView All Trainings & Technical Assistance\\nLGBTQ+ Intimate Partner Violence\\nLGBTQ Competency Training (RISE)\\nMental Health Internship & Training\\nEmployment Assistance\\nVocational Programs\\nView All Vocational Programs\\nCulinary Arts\\nSocial Services\\nResearch\\nAIDS/LifeCycle\\nGet Informed\\nBack\\nVanguard\\nArticles\\nPress Releases\\nArts & Events\\nGet Involved\\nBack\\nView All Get Involved\\nVolunteer\\nPolicy & Advocacy\\nLifeworks Mentorship Program\\nCorporate Engagement\\nMake a Legacy Gift\\nBook an Event\\nAbout the Center\\nBack\\nAbout the Center\\nClient Stories\\nOur Staff\\nContact & Locations\\nCareers\\nPatient\\nVolunteer\\nSenior\\nTrans*Lounge\\nCalendar\\nLocations\\nSearch\\nDonate\\nOur Vision\\nMore than 50 years ago, a group of queer activists came together to share a dream. After fighting for equality in protests, demonstrations, and parades, they wondered: What if we created the world we’ve been waiting for?\\nSo they launched Liberation House—a shelter that provided a safe space for LGBTQ+ people. But as demand from the community grew, so did the dream. And now, decades later, we’ve gone from one tiny home to becoming the Los Angeles LGBT Center:\\nthe largest LGBTQ+ organization in the world\\n.\\nWe’re the fulfillment of their dream, innovating a holistic model of care that houses, nourishes, heals, and celebrates our people.\\nEvery single day, our doors are open\\n—whether you’re a youth who needs a place to belong, or a senior who’s ready to live life fabulously. Then, we take what we learn on the frontlines to advocate for our community everywhere.\\nNo matter what fight lies ahead—and we know, it’s going to be a tough one—we can always call upon our radical roots to hold us firm. Our founders’ dreams planted the seeds, and we stand among their flowers. Because everyone deserves to bloom, to shine, to love, and to live freely.\\nThat’s why we’ll always be here:\\nto fight like hell for our right to do just that\\n.\\nWatch • 2:00\\nWelcome to the Center!\\nEverything you need to know about us—from our holistic model of care to our unmatched size and scope—in two minutes or less.\\nWatch • 2:00\\nWelcome to the Center!\\nEverything you need to know about us—from our holistic model of care to our unmatched size and scope—in two minutes or less.\\nOur Mission\\nSince 1969, the Los Angeles LGBT Center has cared for, championed, and celebrated LGBTQ individuals and families in Los Angeles and beyond.\\nToday, the Center’s nearly 800 employees provide services for more queer and trans people than any other organization in the world—offering programs, services, and global advocacy that span four broad categories: Health, Social Services and Housing, Culture and Education, and Leadership and Advocacy.\\nWe are an unstoppable force in the fight against bigotry and the struggle to build a better world—a world in which LGBTQ people can be healthy, equal, and complete members of society.\\nJoin Our Cause\\nOur founders’ dreams planted the seeds—\\nand we stand among their flowers.\\nOur Values\\nRespect\\nWe provide a workplace and service environment where individuality is seen as strength and all people are treated with fairness and dignity.\\nExcellence\\nWe dedicate ourselves to the highest quality in all our programs and services, and seek employees, volunteers, and supporters who have a passion for helping others.\\nInclusivity\\nWe believe in the need for different perspectives and commit ourselves to representation from all members of our diverse community.\\nInnovation\\nWe vigorously support pioneering programs and advocacy to meet community needs.\\nIntegrity\\nWe work together to advance the Center's mission, and we honor and apply these values in what we do and say.\\nOur Reach\\nWorld's Largest\\nLGBTQ+ Nonprofit and Direct Service Provider\\n50+\\nYears of Service\\n500,000+\\nVisits to the Center Per Year\\n800\\nTeam Members\\n10\\nLocations\\nWorld's Largest\\nLGBTQ+ Nonprofit and Direct Service Provider\\n50+\\nYears of Service\\n500,000+\\nVisits to the Center Per Year\\n800\\nTeam Members\\n10\\nLocations\\nOur Recognition\\nWe Pride Ourselves on Standing Out. Just Like You.\\nSilver Seal of Transparency\\nGuidestar\\n★★★★\\nCharity Navigator\\nHighest rating awarded for 11 consecutive years\\nPress Releases\\nLos Angeles LGBT Center Statement on the 2024 Presidential Election Results, Proposition 3 & Measure A Victories, and the Historic Election of the First Openly Transgender Member of Congress\\nLos Angeles LGBT Center Statement on the 2024 Presidential Election Results, Proposition 3 & Measure A Victories, and the Historic Election of the First Openly Transgender Member of Congress LOS ANGELES, November 6, 2024—In response to the November 5th election results,\\xa0the Los Angeles LGBT Center CEO Joe Hollendoner issued the following statement: \\xa0 “In the […]\\nNov 6, 2024\\nLos Angeles LGBT Center Partners with LA County Registrar-Recorder Office on Early Voting Sites Across the City\\nLos Angeles LGBT Center Partners with LA County Registrar-Recorder Office on Early Voting Sites Across the City Voting Centers Open Friday, Nov. 1st in Hollywood, Boyle Heights and South LA\\xa0– LOS ANGELES, October 31, 2024—The Los Angeles LGBT Center is thrilled to announce the opening of three community vote centers across Los Angeles, providing accessible […]\\nOct 31, 2024\\nLos Angeles LGBT Center Hosts Hundreds of LGBTQ+ Youth, Families at 32nd Anniversary Models of Pride Festival\\nLos Angeles LGBT Center Hosts Hundreds of LGBTQ+ Youth, Families at 32nd Anniversary Models of Pride Festival Social media sensation Bretman Rock was on hand to accept the Model of Pride Award\\xa0Presented by BMO –Models of Pride Event Photography\\xa0Talent + Program Images Here\\xa0Courtesy of Los Angeles LGBT Center– LOS ANGELES, October 21, 2024 — On […]\\nOct 21, 2024\\nLearn More About Our Services\\nMedical Services\\nYouth Services\\nSenior Services\\nMedical Services\\nYouth Services\\nSenior Services\\nAction Name\\nJoin us in our mission to create a world where LGBTQ+ people thrive as healthy, equal, and complete members of society. If you are experiencing domestic violence, intimate partner abuse, or are a victim of a crime, reach out to our\\nSTOP Violence Program (SVP)\\n.\\nDonate Now\\nStay Up To Date\\nPress Releases\\nContact Us\\nPrivacy Policy\\nSite Map\\nTerms of Service\\nCareers\\nCalifornia Privacy Rights\\nAnnual Reports\\nAccessibility Statement\\nPatient Forms\\nIf you are experiencing domestic violence, intimate partner abuse, or are a victim of a crime, reach out to our\\nSTOP Violence Program (SVP).\\nCall 323-860-5806\\nLearn More\\nWelcome to our new website. We’ve moved things around so if you can’t find what you’re looking for, we want to help!\\nSearch Our Site\\nContact Us\\nIf you are experiencing domestic violence, intimate partner abuse, or are a victim of a crime, reach out to our\\nSTOP Violence Program (SVP).\\nCall 323-860-5806\\nLearn More\\nWelcome to our new website. We’ve moved things around so if you can’t find what you’re looking for, we want to help!\\nSearch Our Site\\nContact Us\\n\\n\\n\\ncareers page\\nWebpage Title:\\nCareers - Los Angeles LGBT Center\\nWebpage Contents:\\nskip to main content\\nCalendar\\nLocations\\nSearch\\nPortal\\nPatient\\nVolunteer\\nSenior\\nTrans*Lounge\\nen\\nes\\nDonate\\nServices\\nView All Services\\nYouth Services\\nView All Youth Services\\nHousing\\nDrop-In Center\\nEducation\\nEmployment Assistance\\nLifeworks Mentorship Program\\nFoster Youth Services (RISE)\\nSenior Services\\nView All Senior Services\\nHousing\\nCase Management\\nFood & Nutrition Services\\nEmployment Assistance\\nActivities\\nTransgender Services\\nView All Transgender Services\\nTransgender Wellness Center\\nTrans* Lounge\\nEmployment Assistance\\nGroup Therapy\\nTGI/ENBY+ Resource Index\\nSurvivor Services\\nView All Survivor Services\\nHate Crimes and Police Misconduct\\nDomestic Violence, Sexual Assault, and Stalking\\nMedical Services\\nView All Medical Services\\nPrimary Care\\nHIV Care\\nGender Affirming Care\\nAudre Lorde Health Program\\nInsurance Plans\\nPharmacy\\nMental Health & Psychiatry Services\\nView all Mental Health & Psychiatry Services\\nTherapy\\nPsychiatry\\nSupport Groups\\nNational Institute for LGBTQ+ IPV\\nPharmacy\\nSexual Health Services\\nView All Sexual Health Services\\nHIV Testing\\nSTI Testing and Treatment\\nPrEP and PEP Prescriptions\\nSubstance Use & Recovery\\nLegal Services\\nView All Legal Services\\nLegal Clinic & Lawyer Referral\\nImmigrant Legal Services\\nHomeless Youth & Housing Rights\\nCrime, Violence, and Harassment\\nHousing\\nPrograms\\nView All Programs\\nPolicy & Advocacy\\nView All Policy & Advocacy\\nTake Action\\nNational Institute for LGBTQ+ IPV\\nVoter Action\\nCommunity & Support Groups\\nView All Community & Support Groups\\nGroup Therapy\\nTrans* Lounge\\nSocial Network Groups\\nIntersex Support\\nDomestic Violence\\nYouth & Schools\\nView All Youth & Schools\\nLGBTQ+ Students & Allies\\nEducators & Adults\\nTrainings & Technical Assistance\\nView All Trainings & Technical Assistance\\nLGBTQ+ Intimate Partner Violence\\nLGBTQ Competency Training (RISE)\\nMental Health Internship & Training\\nEmployment Assistance\\nVocational Programs\\nView All Vocational Programs\\nCulinary Arts\\nSocial Services\\nResearch\\nAIDS/LifeCycle\\nGet Informed\\nVanguard\\nArticles\\nPress Releases\\nArts & Events\\nGet Involved\\nView All Get Involved\\nVolunteer\\nPolicy & Advocacy\\nLifeworks Mentorship Program\\nCorporate Engagement\\nMake a Legacy Gift\\nBook an Event\\nAbout the Center\\nAbout the Center\\nClient Stories\\nOur Staff\\nContact & Locations\\nCareers\\nDonate\\nServices\\nBack\\nView All Services\\nYouth Services\\nView All Youth Services\\nHousing\\nDrop-In Center\\nEducation\\nEmployment Assistance\\nLifeworks Mentorship Program\\nFoster Youth Services (RISE)\\nSenior Services\\nView All Senior Services\\nHousing\\nCase Management\\nFood & Nutrition Services\\nEmployment Assistance\\nActivities\\nTransgender Services\\nView All Transgender Services\\nTransgender Wellness Center\\nTrans* Lounge\\nEmployment Assistance\\nGroup Therapy\\nTGI/ENBY+ Resource Index\\nSurvivor Services\\nView All Survivor Services\\nHate Crimes and Police Misconduct\\nDomestic Violence, Sexual Assault, and Stalking\\nMedical Services\\nView All Medical Services\\nPrimary Care\\nHIV Care\\nGender Affirming Care\\nAudre Lorde Health Program\\nInsurance Plans\\nPharmacy\\nMental Health & Psychiatry Services\\nView all Mental Health & Psychiatry Services\\nTherapy\\nPsychiatry\\nSupport Groups\\nNational Institute for LGBTQ+ IPV\\nPharmacy\\nSexual Health Services\\nView All Sexual Health Services\\nHIV Testing\\nSTI Testing and Treatment\\nPrEP and PEP Prescriptions\\nSubstance Use & Recovery\\nLegal Services\\nView All Legal Services\\nLegal Clinic & Lawyer Referral\\nImmigrant Legal Services\\nHomeless Youth & Housing Rights\\nCrime, Violence, and Harassment\\nHousing\\nPrograms\\nBack\\nView All Programs\\nPolicy & Advocacy\\nView All Policy & Advocacy\\nTake Action\\nNational Institute for LGBTQ+ IPV\\nVoter Action\\nCommunity & Support Groups\\nView All Community & Support Groups\\nGroup Therapy\\nTrans* Lounge\\nSocial Network Groups\\nIntersex Support\\nDomestic Violence\\nYouth & Schools\\nView All Youth & Schools\\nLGBTQ+ Students & Allies\\nEducators & Adults\\nTrainings & Technical Assistance\\nView All Trainings & Technical Assistance\\nLGBTQ+ Intimate Partner Violence\\nLGBTQ Competency Training (RISE)\\nMental Health Internship & Training\\nEmployment Assistance\\nVocational Programs\\nView All Vocational Programs\\nCulinary Arts\\nSocial Services\\nResearch\\nAIDS/LifeCycle\\nGet Informed\\nBack\\nVanguard\\nArticles\\nPress Releases\\nArts & Events\\nGet Involved\\nBack\\nView All Get Involved\\nVolunteer\\nPolicy & Advocacy\\nLifeworks Mentorship Program\\nCorporate Engagement\\nMake a Legacy Gift\\nBook an Event\\nAbout the Center\\nBack\\nAbout the Center\\nClient Stories\\nOur Staff\\nContact & Locations\\nCareers\\nPatient\\nVolunteer\\nSenior\\nTrans*Lounge\\nCalendar\\nLocations\\nSearch\\nDonate\\nAbout the Center\\nCareers\\nAbout\\nCareers\\nAt the Los Angeles LGBT Center, our commitment to equity extends to all aspects of our organization. This includes our hiring practices, programs and services, and leadership. We are committed to fostering an equitable environment where everyone can thrive.\\nSee Job Openings\\nFoundational to the equity work is an acknowledgment of the interdependent systems, institutions, ideologies, practices, behaviors, and policies that both historically and presently operate to oppress certain people based on race, ethnicity, national origin, religion, age, gender identity, gender expression, language/s, sexual orientation, (dis)ability status, health history, socioeconomic status and other elements of someone’s lived experience.\\nAs an employee, you will play a role in creating a culture where each member of our team is safe in their intersectional identities, empowered to bring those identities into their work, and supported in their professional growth so we can be innovative, empowered and thoughtful in best serving our community.\\nIf you are enthusiastic about making a meaningful impact and want to explore career opportunities where you can contribute to our mission, we invite you to join our team at the Los Angeles LGBT Center!\\nFind your people.\\nJoin the Center.\\nJoin Our Workforce — With Best-in-Class Benefits\\nHealthcare\\nEmployer-paid health, vision, and dental with a domestic partner option\\nSupport—When You Need It\\nOur Employee Assistance Program is available to help colleagues navigate both professional and personal moments.\\nLong-Term Planning\\nSupplemental term Life Insurance is available to our staff—plus employer-paid life and long-term Disability Insurance. We are also proud to offer an optional 403(b) Retirement Program.\\nFlexible Finances\\nWe provide both a credit union and automatic deposit option for our staff.\\nTime Off\\n12 days paid vacation during your first year of employment—plus 10 paid holidays, with three floating holidays per year.\\nEmployment Application\\nDownload\\nFAQs for Potential Employment Candidates at the Los Angeles LGBT Center\\nWhat is the mission of the Los Angeles LGBT Center?\\nThe Los Angeles LGBT Center’s mission is to build a world where LGBTQ+ individuals thrive as healthy, equal, and complete members of society. We provide vital services in health, social services, housing, and advocacy.\\nWhat types of positions are available at the Los Angeles LGBT Center?\\nWe offer a variety of roles across different departments and programs, including healthcare, social services, advocacy, administration, and community outreach. Positions range from entry-level to management roles.\\nWhat qualifications do you look for in candidates?\\nQualifications vary by position, but we generally seek individuals who are passionate about LGBTQ+ issues, possess relevant experience or education, and demonstrate a commitment to our mission. Specific job postings will outline required qualifications.\\nWhat is the work environment like?\\nThe Los Angeles LGBT Center promotes an inclusive and supportive work environment. We value collaboration, respect, and the unique contributions of each team member.\\nAre there opportunities for professional development?\\nYes! We encourage ongoing learning and provide various professional development opportunities, including workshops, training sessions, and mentorship programs.\\nHow does the Center support diversity and inclusion in hiring?\\nWe are committed to diversity and inclusion in our hiring practices. We actively seek candidates from various backgrounds and experiences, and we strive to create a workforce that reflects the communities we serve.\\nWhat benefits does the Los Angeles LGBT Center offer to employees?\\nWe offer a comprehensive benefits package that includes health insurance, retirement plans, paid time off, and other employee wellness programs. Specific benefits may vary by position.\\nDo you sponsor employment?\\nAt this time, the Los Angeles LGBT Center does not typically sponsor employment visas.\\nDo you have internships?\\nYes, we offer internships in various departments. Please contact our Volunteer Resources for internship opportunities and application instructions at\\n[email\\xa0protected]\\n.\\nCan I volunteer with the Center?\\nYes, the Los Angeles LGBT Center has a robust volunteer program. You can learn more about volunteer opportunities and how to get involved by visiting our\\nvolunteer page\\n.\\nHow can I apply for a position?\\nInterested candidates can apply through our website. Each job posting will include instructions on how to submit your application and any required materials.\\nWhat is the interview process like?\\nOur interview process typically includes an initial screening, followed by one or more interviews with team members. We may also conduct reference checks. We aim to create a comfortable environment where candidates can showcase their skills and experiences.\\nHow can I stay informed about job openings?\\nYou can stay updated on job openings by visiting our careers page regularly, signing up for our newsletter, or following us on social media.\\nIs there a probationary period for new hires?\\nYes, we typically have a probationary period for new employees, which allows both the employee and the Center to assess fit and performance.\\nWhat should I know about the Center’s culture?\\nOur culture is centered on respect, community, and empowerment. We encourage open communication and collaboration among all staff members, and we celebrate our diverse identities and experiences.\\nJob Openings (28)\\nFilters\\nHealth Services\\nClinic Liaison #723025\\nCenter South\\nToday\\nFull-Time 100%\\nApply Now\\nMental Health Clinician I #762152\\nMcDonald Wright\\n1 days ago\\nFull-Time 100%\\nApply Now\\nMental Health Clinician I #762151\\nMcDonald Wright\\n1 days ago\\nFull-Time 100%\\nApply Now\\nLVN Care Coordinator #712064\\nMcDonald Wright\\n3 days ago\\nFull-Time 100%\\nApply Now\\nLVN Care Coordinator #712063\\nMcDonald Wright\\n3 days ago\\nFull-Time 100%\\nApply Now\\nLinkage to Care Specialist #722104\\nTrans Wellness Center\\n8 days ago\\nFull-Time 100%\\nApply Now\\nManager of Nurse Case Management\\nMcDonald Wright\\n9 days ago\\nFull-Time 100%\\nApply Now\\nPharmacy Technician II #770156\\nMcDonald Wright\\n10 days ago\\nFull-Time 100%\\nApply Now\\nMedical Assistant #710145\\nMcDonald Wright\\n23 days ago\\nFull-Time 100%\\nApply Now\\nYouth Services\\nMental Health Clinician III #901212\\nAMR Campus\\n1 days ago\\nFull-Time 100%\\nApply Now\\nResident Assistant (Relief/On-Call)\\nAMR Campus\\n8 days ago\\nRelief On Call\\nApply Now\\nResident Assistant II #903521\\nAMR Campus\\n30+ days ago\\nFull-Time 100%\\nApply Now\\nResident Assistant II #903523\\nAMR Campus\\n30+ days ago\\nFull-Time 100%\\nApply Now\\nWorkforce Development Specialist II #907031\\nAMR Campus\\n30+ days ago\\nFull-Time 100%\\nApply Now\\nYouth Care Specialist #901303\\nAMR Campus\\n30+ days ago\\nFull-Time 100%\\nApply Now\\nMental Health Clinician II #901201\\nAMR Campus\\n30+ days ago\\nFull-Time 100%\\nApply Now\\nYouth Education Coordinator\\nAMR Campus\\n30+ days ago\\nFull-Time 100%\\nApply Now\\nYouth Development & Prevention Coordinator\\nAMR Campus\\n30+ days ago\\nFull-Time 100%\\nApply Now\\nHousing Stabilization Specialist I\\nAMR Campus\\n30+ days ago\\nFull-Time 100%\\nApply Now\\nLegal Services\\nAttorney, Immigration Law Project\\nThe Village\\n22 days ago\\nFull-Time 100%\\nApply Now\\nFacilities\\nMaintenance #244545\\n23 days ago\\nFull-Time 100%\\nApply Now\\nMaintenance Manager\\nAMR Campus\\n23 days ago\\nFull-Time 100%\\nApply Now\\nSecurity Officer #259111\\n23 days ago\\nFull-Time 100%\\nApply Now\\nPolicy and Community Building\\nProgram Coordinator\\nAMR Campus\\n30 days ago\\nFull-Time 100%\\nApply Now\\nIT\\nHelpDesk Specialist\\nMcDonald Wright\\n30+ days ago\\nFull-Time 100%\\nApply Now\\nCultural Arts\\nStage Manager\\nThe Village\\n30+ days ago\\nRelief On Call\\nApply Now\\nCulinary Arts\\nCafe Barista #971304\\nAMR Campus\\n30+ days ago\\nPart-Time 50%\\nApply Now\\nSeniors Services\\nHousing Coordinator\\nAMR Campus\\n30+ days ago\\nFull-Time 100%\\nApply Now\\nThe Los Angeles LGBT Center is an equal opportunity employer. You are encouraged to apply regardless of your race, color, national origin, ancestry, sex, gender identity, marital status, religious creed, medical/physical/ mental condition, sexual orientation, Veteran status, or age.\\nYou are also invited to self-identify if you believe you may be covered by the ADA (Americans With Disabilities Act) and wish to benefit from the protections it offers. Some positions may require enrollment in the Service Employees International Union (SEIU) Local 721.\\nThe Center has implemented a policy requiring all staff to be fully vaccinated against COVID-19 as a condition of employment, subject to applicable federal, state and local laws. For more information about the Center’s vaccination policy, please click\\nhere\\n.\\nClose filters\\nFilters\\nSelect All Departments\\nToggle me\\nCulinary Arts\\nCultural Arts\\nFacilities\\nHealth Services\\nIT\\nLegal Services\\nPolicy and Community Building\\nSeniors Services\\nYouth Services\\nSelect All Locations\\nToggle me\\nAMR Campus\\nCenter South\\nMcDonald Wright\\nThe Village\\nTrans Wellness Center\\nSelect All Types\\nToggle me\\nFull-Time 100%\\nPart-Time 50%\\nRelief On Call\\nSelect All\\nApply Filters\\nYou May Be Interested In\\nContact Us\\nStaff\\nAction Name\\nJoin us in our mission to create a world where LGBTQ+ people thrive as healthy, equal, and complete members of society. If you are experiencing domestic violence, intimate partner abuse, or are a victim of a crime, reach out to our\\nSTOP Violence Program (SVP)\\n.\\nDonate Now\\nStay Up To Date\\nPress Releases\\nContact Us\\nPrivacy Policy\\nSite Map\\nTerms of Service\\nCareers\\nCalifornia Privacy Rights\\nAnnual Reports\\nAccessibility Statement\\nPatient Forms\\nIf you are experiencing domestic violence, intimate partner abuse, or are a victim of a crime, reach out to our\\nSTOP Violence Program (SVP).\\nCall 323-860-5806\\nLearn More\\nWelcome to our new website. We’ve moved things around so if you can’t find what you’re looking for, we want to help!\\nSearch Our Site\\nContact Us\\nIf you are experiencing domestic violence, intimate partner abuse, or are a victim of a crime, reach out to our\\nSTOP Violence Program (SVP).\\nCall 323-860-5806\\nLearn More\\nWelcome to our new website. We’ve moved things around so if you can’t find what you’re looking for, we want to help!\\nSearch Our Site\\nContact Us\\n\\n\\n\\nservices page\\nWebpage Title:\\nServices - Los Angeles LGBT Center\\nWebpage Contents:\\nskip to main content\\nCalendar\\nLocations\\nSearch\\nPortal\\nPatient\\nVolunteer\\nSenior\\nTrans*Lounge\\nen\\nes\\nDonate\\nServices\\nView All Services\\nYouth Services\\nView All Youth Services\\nHousing\\nDrop-In Center\\nEducation\\nEmployment Assistance\\nLifeworks Mentorship Program\\nFoster Youth Services (RISE)\\nSenior Services\\nView All Senior Services\\nHousing\\nCase Management\\nFood & Nutrition Services\\nEmployment Assistance\\nActivities\\nTransgender Services\\nView All Transgender Services\\nTransgender Wellness Center\\nTrans* Lounge\\nEmployment Assistance\\nGroup Therapy\\nTGI/ENBY+ Resource Index\\nSurvivor Services\\nView All Survivor Services\\nHate Crimes and Police Misconduct\\nDomestic Violence, Sexual Assault, and Stalking\\nMedical Services\\nView All Medical Services\\nPrimary Care\\nHIV Care\\nGender Affirming Care\\nAudre Lorde Health Program\\nInsurance Plans\\nPharmacy\\nMental Health & Psychiatry Services\\nView all Mental Health & Psychiatry Services\\nTherapy\\nPsychiatry\\nSupport Groups\\nNational Institute for LGBTQ+ IPV\\nPharmacy\\nSexual Health Services\\nView All Sexual Health Services\\nHIV Testing\\nSTI Testing and Treatment\\nPrEP and PEP Prescriptions\\nSubstance Use & Recovery\\nLegal Services\\nView All Legal Services\\nLegal Clinic & Lawyer Referral\\nImmigrant Legal Services\\nHomeless Youth & Housing Rights\\nCrime, Violence, and Harassment\\nHousing\\nPrograms\\nView All Programs\\nPolicy & Advocacy\\nView All Policy & Advocacy\\nTake Action\\nNational Institute for LGBTQ+ IPV\\nVoter Action\\nCommunity & Support Groups\\nView All Community & Support Groups\\nGroup Therapy\\nTrans* Lounge\\nSocial Network Groups\\nIntersex Support\\nDomestic Violence\\nYouth & Schools\\nView All Youth & Schools\\nLGBTQ+ Students & Allies\\nEducators & Adults\\nTrainings & Technical Assistance\\nView All Trainings & Technical Assistance\\nLGBTQ+ Intimate Partner Violence\\nLGBTQ Competency Training (RISE)\\nMental Health Internship & Training\\nEmployment Assistance\\nVocational Programs\\nView All Vocational Programs\\nCulinary Arts\\nSocial Services\\nResearch\\nAIDS/LifeCycle\\nGet Informed\\nVanguard\\nArticles\\nPress Releases\\nArts & Events\\nGet Involved\\nView All Get Involved\\nVolunteer\\nPolicy & Advocacy\\nLifeworks Mentorship Program\\nCorporate Engagement\\nMake a Legacy Gift\\nBook an Event\\nAbout the Center\\nAbout the Center\\nClient Stories\\nOur Staff\\nContact & Locations\\nCareers\\nDonate\\nServices\\nBack\\nView All Services\\nYouth Services\\nView All Youth Services\\nHousing\\nDrop-In Center\\nEducation\\nEmployment Assistance\\nLifeworks Mentorship Program\\nFoster Youth Services (RISE)\\nSenior Services\\nView All Senior Services\\nHousing\\nCase Management\\nFood & Nutrition Services\\nEmployment Assistance\\nActivities\\nTransgender Services\\nView All Transgender Services\\nTransgender Wellness Center\\nTrans* Lounge\\nEmployment Assistance\\nGroup Therapy\\nTGI/ENBY+ Resource Index\\nSurvivor Services\\nView All Survivor Services\\nHate Crimes and Police Misconduct\\nDomestic Violence, Sexual Assault, and Stalking\\nMedical Services\\nView All Medical Services\\nPrimary Care\\nHIV Care\\nGender Affirming Care\\nAudre Lorde Health Program\\nInsurance Plans\\nPharmacy\\nMental Health & Psychiatry Services\\nView all Mental Health & Psychiatry Services\\nTherapy\\nPsychiatry\\nSupport Groups\\nNational Institute for LGBTQ+ IPV\\nPharmacy\\nSexual Health Services\\nView All Sexual Health Services\\nHIV Testing\\nSTI Testing and Treatment\\nPrEP and PEP Prescriptions\\nSubstance Use & Recovery\\nLegal Services\\nView All Legal Services\\nLegal Clinic & Lawyer Referral\\nImmigrant Legal Services\\nHomeless Youth & Housing Rights\\nCrime, Violence, and Harassment\\nHousing\\nPrograms\\nBack\\nView All Programs\\nPolicy & Advocacy\\nView All Policy & Advocacy\\nTake Action\\nNational Institute for LGBTQ+ IPV\\nVoter Action\\nCommunity & Support Groups\\nView All Community & Support Groups\\nGroup Therapy\\nTrans* Lounge\\nSocial Network Groups\\nIntersex Support\\nDomestic Violence\\nYouth & Schools\\nView All Youth & Schools\\nLGBTQ+ Students & Allies\\nEducators & Adults\\nTrainings & Technical Assistance\\nView All Trainings & Technical Assistance\\nLGBTQ+ Intimate Partner Violence\\nLGBTQ Competency Training (RISE)\\nMental Health Internship & Training\\nEmployment Assistance\\nVocational Programs\\nView All Vocational Programs\\nCulinary Arts\\nSocial Services\\nResearch\\nAIDS/LifeCycle\\nGet Informed\\nBack\\nVanguard\\nArticles\\nPress Releases\\nArts & Events\\nGet Involved\\nBack\\nView All Get Involved\\nVolunteer\\nPolicy & Advocacy\\nLifeworks Mentorship Program\\nCorporate Engagement\\nMake a Legacy Gift\\nBook an Event\\nAbout the Center\\nBack\\nAbout the Center\\nClient Stories\\nOur Staff\\nContact & Locations\\nCareers\\nPatient\\nVolunteer\\nSenior\\nTrans*Lounge\\nCalendar\\nLocations\\nSearch\\nDonate\\nServices\\nThe Los Angeles LGBT Center pioneered a holistic model of care that's unparalleled in size and scope by any other LGBTQ+ organization in the world. From housing to legal aid, healthcare to mental health, and even youth aged 18 to seniors aged 98—we offer comprehensive care that's designed specifically for the queer and trans community.\\nPopular Services\\nMedical\\nMental Health & Psychiatry\\nSexual Health\\nSubstance Use and Recovery\\nYouth\\nSince 1969, your Center has been—and will always be—here for you.\\nOur Services\\nYouth Services\\nView All\\nEducation\\nFoster Youth Services (RISE)\\nEmployment Assistance\\nLifeworks Mentorship Program\\nDrop-In Center\\nHousing\\nSenior Services\\nView All\\nEmployment Assistance\\nHousing\\nActivities\\nFood & Nutrition Services\\nCase Management\\nTransgender Services\\nView All\\nTransgender Wellness Center\\nGroup Therapy\\nTGI/ENBY+ Resource Index\\nTrans* Lounge\\nEmployment Assistance\\nSurvivor Services\\nView All\\nDomestic Violence, Sexual Assault, and Stalking\\nHate Crimes and Police Misconduct\\nMedical Services\\nView All\\nAudre Lorde Health Program\\nPharmacy\\nInsurance Plans\\nGender Affirming Care\\nHIV Care\\nPrimary Care\\nMental Health & Psychiatry Services\\nView All\\nPsychiatry\\nTherapy\\nSupport Groups\\nSexual Health Services\\nView All\\nPrEP and PEP Prescriptions\\nSTI Testing and Treatment\\nHIV Testing\\nSubstance Use and Recovery Services\\nView All\\nLegal Services\\nView All\\nCrime, Violence, and Harassment\\nEn Español: Departamento de Servicios Legales\\nLegal Clinic & Lawyer Referral\\nHomeless Youth & Housing Rights\\nImmigrant Legal Services\\nHousing\\nView All\\nUnparalleled Impact. Unmatched Service.\\n500,000\\nVisits to the Center in 2022\\n27,453\\nMental Health Visits in 2022\\n35,607\\nYouth Drop-In Visits in 2022\\n18,434\\nSeniors Provided Case Management in 2022\\n14,930\\nTreatment Visits to Our Sexual Health Program\\n500,000\\nVisits to the Center in 2022\\n27,453\\nMental Health Visits in 2022\\n35,607\\nYouth Drop-In Visits in 2022\\n18,434\\nSeniors Provided Case Management in 2022\\n14,930\\nTreatment Visits to Our Sexual Health Program\\nYou May Be Interested In\\nPrograms at the Center\\nContact Us\\nAction Name\\nJoin us in our mission to create a world where LGBTQ+ people thrive as healthy, equal, and complete members of society. If you are experiencing domestic violence, intimate partner abuse, or are a victim of a crime, reach out to our\\nSTOP Violence Program (SVP)\\n.\\nDonate Now\\nStay Up To Date\\nPress Releases\\nContact Us\\nPrivacy Policy\\nSite Map\\nTerms of Service\\nCareers\\nCalifornia Privacy Rights\\nAnnual Reports\\nAccessibility Statement\\nPatient Forms\\nIf you are experiencing domestic violence, intimate partner abuse, or are a victim of a crime, reach out to our\\nSTOP Violence Program (SVP).\\nCall 323-860-5806\\nLearn More\\nWelcome to our new website. We’ve moved things around so if you can’t find what you’re looking for, we want to help!\\nSearch Our Site\\nContact Us\\nIf you are experiencing domestic violence, intimate partner abuse, or are a victim of a crime, reach out to our\\nSTOP Violence Program (SVP).\\nCall 323-860-5806\\nLearn More\\nWelcome to our new website. We’ve moved things around so if you can’t find what you’re looking for, we want to help!\\nSearch Our Site\\nContact Us\\n\\n\\n\\nprograms page\\nWebpage Title:\\nPrograms - Los Angeles LGBT Center\\nWebpage Contents:\\nskip to main content\\nCalendar\\nLocations\\nSearch\\nPortal\\nPatient\\nVolunteer\\nSenior\\nTrans*Lounge\\nen\\nes\\nDonate\\nServices\\nView All Services\\nYouth Services\\nView All Youth Services\\nHousing\\nDrop-In Center\\nEducation\\nEmployment Assistance\\nLifeworks Mentorship Program\\nFoster Youth Services (RISE)\\nSenior Services\\nView All Senior Services\\nHousing\\nCase Management\\nFood & Nutrition Services\\nEmployment Assistance\\nActivities\\nTransgender Services\\nView All Transgender Services\\nTransgender Wellness Center\\nTrans* Lounge\\nEmployment Assistance\\nGroup Therapy\\nTGI/ENBY+ Resource Index\\nSurvivor Services\\nView All Survivor Services\\nHate Crimes and Police Misconduct\\nDomestic Violence, Sexual Assault, and Stalking\\nMedical Services\\nView All Medical Services\\nPrimary Care\\nHIV Care\\nGender Affirming Care\\nAudre Lorde Health Program\\nInsurance Plans\\nPharmacy\\nMental Health & Psychiatry Services\\nView all Mental Health & Psychiatry Services\\nTherapy\\nPsychiatry\\nSupport Groups\\nNational Institute for LGBTQ+ IPV\\nPharmacy\\nSexual Health Services\\nView All Sexual Health Services\\nHIV Testing\\nSTI Testing and Treatment\\nPrEP and PEP Prescriptions\\nSubstance Use & Recovery\\nLegal Services\\nView All Legal Services\\nLegal Clinic & Lawyer Referral\\nImmigrant Legal Services\\nHomeless Youth & Housing Rights\\nCrime, Violence, and Harassment\\nHousing\\nPrograms\\nView All Programs\\nPolicy & Advocacy\\nView All Policy & Advocacy\\nTake Action\\nNational Institute for LGBTQ+ IPV\\nVoter Action\\nCommunity & Support Groups\\nView All Community & Support Groups\\nGroup Therapy\\nTrans* Lounge\\nSocial Network Groups\\nIntersex Support\\nDomestic Violence\\nYouth & Schools\\nView All Youth & Schools\\nLGBTQ+ Students & Allies\\nEducators & Adults\\nTrainings & Technical Assistance\\nView All Trainings & Technical Assistance\\nLGBTQ+ Intimate Partner Violence\\nLGBTQ Competency Training (RISE)\\nMental Health Internship & Training\\nEmployment Assistance\\nVocational Programs\\nView All Vocational Programs\\nCulinary Arts\\nSocial Services\\nResearch\\nAIDS/LifeCycle\\nGet Informed\\nVanguard\\nArticles\\nPress Releases\\nArts & Events\\nGet Involved\\nView All Get Involved\\nVolunteer\\nPolicy & Advocacy\\nLifeworks Mentorship Program\\nCorporate Engagement\\nMake a Legacy Gift\\nBook an Event\\nAbout the Center\\nAbout the Center\\nClient Stories\\nOur Staff\\nContact & Locations\\nCareers\\nDonate\\nServices\\nBack\\nView All Services\\nYouth Services\\nView All Youth Services\\nHousing\\nDrop-In Center\\nEducation\\nEmployment Assistance\\nLifeworks Mentorship Program\\nFoster Youth Services (RISE)\\nSenior Services\\nView All Senior Services\\nHousing\\nCase Management\\nFood & Nutrition Services\\nEmployment Assistance\\nActivities\\nTransgender Services\\nView All Transgender Services\\nTransgender Wellness Center\\nTrans* Lounge\\nEmployment Assistance\\nGroup Therapy\\nTGI/ENBY+ Resource Index\\nSurvivor Services\\nView All Survivor Services\\nHate Crimes and Police Misconduct\\nDomestic Violence, Sexual Assault, and Stalking\\nMedical Services\\nView All Medical Services\\nPrimary Care\\nHIV Care\\nGender Affirming Care\\nAudre Lorde Health Program\\nInsurance Plans\\nPharmacy\\nMental Health & Psychiatry Services\\nView all Mental Health & Psychiatry Services\\nTherapy\\nPsychiatry\\nSupport Groups\\nNational Institute for LGBTQ+ IPV\\nPharmacy\\nSexual Health Services\\nView All Sexual Health Services\\nHIV Testing\\nSTI Testing and Treatment\\nPrEP and PEP Prescriptions\\nSubstance Use & Recovery\\nLegal Services\\nView All Legal Services\\nLegal Clinic & Lawyer Referral\\nImmigrant Legal Services\\nHomeless Youth & Housing Rights\\nCrime, Violence, and Harassment\\nHousing\\nPrograms\\nBack\\nView All Programs\\nPolicy & Advocacy\\nView All Policy & Advocacy\\nTake Action\\nNational Institute for LGBTQ+ IPV\\nVoter Action\\nCommunity & Support Groups\\nView All Community & Support Groups\\nGroup Therapy\\nTrans* Lounge\\nSocial Network Groups\\nIntersex Support\\nDomestic Violence\\nYouth & Schools\\nView All Youth & Schools\\nLGBTQ+ Students & Allies\\nEducators & Adults\\nTrainings & Technical Assistance\\nView All Trainings & Technical Assistance\\nLGBTQ+ Intimate Partner Violence\\nLGBTQ Competency Training (RISE)\\nMental Health Internship & Training\\nEmployment Assistance\\nVocational Programs\\nView All Vocational Programs\\nCulinary Arts\\nSocial Services\\nResearch\\nAIDS/LifeCycle\\nGet Informed\\nBack\\nVanguard\\nArticles\\nPress Releases\\nArts & Events\\nGet Involved\\nBack\\nView All Get Involved\\nVolunteer\\nPolicy & Advocacy\\nLifeworks Mentorship Program\\nCorporate Engagement\\nMake a Legacy Gift\\nBook an Event\\nAbout the Center\\nBack\\nAbout the Center\\nClient Stories\\nOur Staff\\nContact & Locations\\nCareers\\nPatient\\nVolunteer\\nSenior\\nTrans*Lounge\\nCalendar\\nLocations\\nSearch\\nDonate\\nPrograms\\nExplore the Center’s extensive range of programming—from helping to make workplaces more trans-affirming, to equipping you with the skills and experience needed to pursue gainful employment, to advancing LGBTQ+ policy initiatives, and beyond.\\nPopular Programs\\nTake Action\\nYouth & Schools\\nCommunity & Support Groups\\nSocial Services\\nOur programs cover the diverse needs of the LGBTQ+ community—from education to employment.\\nAll Programs\\nCommunity & Support Groups\\nView All\\nSupport Groups\\nIntersex Support\\nDomestic Violence\\nPolicy & Advocacy\\nView All\\nVoter Action\\nTake Action\\nTrainings & Technical Assistance\\nView All\\nMental Health Internship & Training\\nLGBTQ Competency Training (RISE)\\nNational Institute for LGBTQ+ IPV\\nVocational Programs\\nView All\\nSocial Services\\nCulinary Arts\\nYouth & Schools\\nView All\\nEducators & Adults\\nLGBTQ+ Students & Allies\\nResearch\\nView All\\nOur Impact\\n7,087\\nYouth Education Services Provided in 2022\\n6,231\\nYouth Employment Services Provided in 2022\\n54,998\\nVisits by Senior Clients at Events in FY23\\n117,286\\nMeals Prepared and Served by Culinary Arts in FY23\\n8,704\\nPolicy & Community Building Actions Completed in FY23\\n7,087\\nYouth Education Services Provided in 2022\\n6,231\\nYouth Employment Services Provided in 2022\\n54,998\\nVisits by Senior Clients at Events in FY23\\n117,286\\nMeals Prepared and Served by Culinary Arts in FY23\\n8,704\\nPolicy & Community Building Actions Completed in FY23\\nWatch • 2:11\\nMeet David, a Client of the Los Angeles LGBT Center\\nWatch • 2:11\\nMeet David, a Client of the Los Angeles LGBT Center\\nYou May Be Interested In\\nServices\\nEducation\\nAction Name\\nJoin us in our mission to create a world where LGBTQ+ people thrive as healthy, equal, and complete members of society. If you are experiencing domestic violence, intimate partner abuse, or are a victim of a crime, reach out to our\\nSTOP Violence Program (SVP)\\n.\\nDonate Now\\nStay Up To Date\\nPress Releases\\nContact Us\\nPrivacy Policy\\nSite Map\\nTerms of Service\\nCareers\\nCalifornia Privacy Rights\\nAnnual Reports\\nAccessibility Statement\\nPatient Forms\\nIf you are experiencing domestic violence, intimate partner abuse, or are a victim of a crime, reach out to our\\nSTOP Violence Program (SVP).\\nCall 323-860-5806\\nLearn More\\nWelcome to our new website. We’ve moved things around so if you can’t find what you’re looking for, we want to help!\\nSearch Our Site\\nContact Us\\nIf you are experiencing domestic violence, intimate partner abuse, or are a victim of a crime, reach out to our\\nSTOP Violence Program (SVP).\\nCall 323-860-5806\\nLearn More\\nWelcome to our new website. We’ve moved things around so if you can’t find what you’re looking for, we want to help!\\nSearch Our Site\\nContact Us\\n\\n\\n\\nget involved page\\nWebpage Title:\\nGet Involved - Los Angeles LGBT Center\\nWebpage Contents:\\nskip to main content\\nCalendar\\nLocations\\nSearch\\nPortal\\nPatient\\nVolunteer\\nSenior\\nTrans*Lounge\\nen\\nes\\nDonate\\nServices\\nView All Services\\nYouth Services\\nView All Youth Services\\nHousing\\nDrop-In Center\\nEducation\\nEmployment Assistance\\nLifeworks Mentorship Program\\nFoster Youth Services (RISE)\\nSenior Services\\nView All Senior Services\\nHousing\\nCase Management\\nFood & Nutrition Services\\nEmployment Assistance\\nActivities\\nTransgender Services\\nView All Transgender Services\\nTransgender Wellness Center\\nTrans* Lounge\\nEmployment Assistance\\nGroup Therapy\\nTGI/ENBY+ Resource Index\\nSurvivor Services\\nView All Survivor Services\\nHate Crimes and Police Misconduct\\nDomestic Violence, Sexual Assault, and Stalking\\nMedical Services\\nView All Medical Services\\nPrimary Care\\nHIV Care\\nGender Affirming Care\\nAudre Lorde Health Program\\nInsurance Plans\\nPharmacy\\nMental Health & Psychiatry Services\\nView all Mental Health & Psychiatry Services\\nTherapy\\nPsychiatry\\nSupport Groups\\nNational Institute for LGBTQ+ IPV\\nPharmacy\\nSexual Health Services\\nView All Sexual Health Services\\nHIV Testing\\nSTI Testing and Treatment\\nPrEP and PEP Prescriptions\\nSubstance Use & Recovery\\nLegal Services\\nView All Legal Services\\nLegal Clinic & Lawyer Referral\\nImmigrant Legal Services\\nHomeless Youth & Housing Rights\\nCrime, Violence, and Harassment\\nHousing\\nPrograms\\nView All Programs\\nPolicy & Advocacy\\nView All Policy & Advocacy\\nTake Action\\nNational Institute for LGBTQ+ IPV\\nVoter Action\\nCommunity & Support Groups\\nView All Community & Support Groups\\nGroup Therapy\\nTrans* Lounge\\nSocial Network Groups\\nIntersex Support\\nDomestic Violence\\nYouth & Schools\\nView All Youth & Schools\\nLGBTQ+ Students & Allies\\nEducators & Adults\\nTrainings & Technical Assistance\\nView All Trainings & Technical Assistance\\nLGBTQ+ Intimate Partner Violence\\nLGBTQ Competency Training (RISE)\\nMental Health Internship & Training\\nEmployment Assistance\\nVocational Programs\\nView All Vocational Programs\\nCulinary Arts\\nSocial Services\\nResearch\\nAIDS/LifeCycle\\nGet Informed\\nVanguard\\nArticles\\nPress Releases\\nArts & Events\\nGet Involved\\nView All Get Involved\\nVolunteer\\nPolicy & Advocacy\\nLifeworks Mentorship Program\\nCorporate Engagement\\nMake a Legacy Gift\\nBook an Event\\nAbout the Center\\nAbout the Center\\nClient Stories\\nOur Staff\\nContact & Locations\\nCareers\\nDonate\\nServices\\nBack\\nView All Services\\nYouth Services\\nView All Youth Services\\nHousing\\nDrop-In Center\\nEducation\\nEmployment Assistance\\nLifeworks Mentorship Program\\nFoster Youth Services (RISE)\\nSenior Services\\nView All Senior Services\\nHousing\\nCase Management\\nFood & Nutrition Services\\nEmployment Assistance\\nActivities\\nTransgender Services\\nView All Transgender Services\\nTransgender Wellness Center\\nTrans* Lounge\\nEmployment Assistance\\nGroup Therapy\\nTGI/ENBY+ Resource Index\\nSurvivor Services\\nView All Survivor Services\\nHate Crimes and Police Misconduct\\nDomestic Violence, Sexual Assault, and Stalking\\nMedical Services\\nView All Medical Services\\nPrimary Care\\nHIV Care\\nGender Affirming Care\\nAudre Lorde Health Program\\nInsurance Plans\\nPharmacy\\nMental Health & Psychiatry Services\\nView all Mental Health & Psychiatry Services\\nTherapy\\nPsychiatry\\nSupport Groups\\nNational Institute for LGBTQ+ IPV\\nPharmacy\\nSexual Health Services\\nView All Sexual Health Services\\nHIV Testing\\nSTI Testing and Treatment\\nPrEP and PEP Prescriptions\\nSubstance Use & Recovery\\nLegal Services\\nView All Legal Services\\nLegal Clinic & Lawyer Referral\\nImmigrant Legal Services\\nHomeless Youth & Housing Rights\\nCrime, Violence, and Harassment\\nHousing\\nPrograms\\nBack\\nView All Programs\\nPolicy & Advocacy\\nView All Policy & Advocacy\\nTake Action\\nNational Institute for LGBTQ+ IPV\\nVoter Action\\nCommunity & Support Groups\\nView All Community & Support Groups\\nGroup Therapy\\nTrans* Lounge\\nSocial Network Groups\\nIntersex Support\\nDomestic Violence\\nYouth & Schools\\nView All Youth & Schools\\nLGBTQ+ Students & Allies\\nEducators & Adults\\nTrainings & Technical Assistance\\nView All Trainings & Technical Assistance\\nLGBTQ+ Intimate Partner Violence\\nLGBTQ Competency Training (RISE)\\nMental Health Internship & Training\\nEmployment Assistance\\nVocational Programs\\nView All Vocational Programs\\nCulinary Arts\\nSocial Services\\nResearch\\nAIDS/LifeCycle\\nGet Informed\\nBack\\nVanguard\\nArticles\\nPress Releases\\nArts & Events\\nGet Involved\\nBack\\nView All Get Involved\\nVolunteer\\nPolicy & Advocacy\\nLifeworks Mentorship Program\\nCorporate Engagement\\nMake a Legacy Gift\\nBook an Event\\nAbout the Center\\nBack\\nAbout the Center\\nClient Stories\\nOur Staff\\nContact & Locations\\nCareers\\nPatient\\nVolunteer\\nSenior\\nTrans*Lounge\\nCalendar\\nLocations\\nSearch\\nDonate\\nGet Involved\\nJoin our mission to care for, champion, and celebrate LGBTQ+ individuals and families in Los Angeles and beyond. Volunteer, join a grassroots campaign, or become a mentor. Your involvement helps to empower change and advance LGBTQ+ rights everywhere.\\nWays to Get Involved\\nVolunteer\\nView\\nOur events, programs, and services are supported by a group of dedicated volunteers committed to advancing our mission.\\nPolicy & Advocacy\\nView\\nCurrent Campaigns\\nLifeworks Mentorship Program\\nView\\nLifeWorks gives youth the opportunity to match with an adult who will support them in their personal development.\\nCorporate Engagement\\nView\\nOur corporate partners join us in our building a world where LGBT people thrive as healthy, equal, and complete members of society.\\nMake a Legacy Gift\\nView\\nThe Circle of Life is a special group of supporters who are an unstoppable force in the mission of the Center.\\nSpaces\\nView\\nInterested in hosting your next event at the Los Angeles LGBT Center? Learn more about our spaces available for rental.\\nYour Donations Go a Long Way. Hear Our Stories.\\nWatch • 3:09\\nCenter Your Story: Meet Russ\\nMeet Russ, a longtime volunteer who helps our clients build community through dance—one ballroom lesson at a time.\\nWatch • 3:09\\nCenter Your Story: Meet Russ\\nMeet Russ, a longtime volunteer who helps our clients build community through dance—one ballroom lesson at a time.\\nYou May Be Interested In\\nPolicy & Advocacy\\nTake Action\\nAction Name\\nJoin us in our mission to create a world where LGBTQ+ people thrive as healthy, equal, and complete members of society. If you are experiencing domestic violence, intimate partner abuse, or are a victim of a crime, reach out to our\\nSTOP Violence Program (SVP)\\n.\\nDonate Now\\nStay Up To Date\\nPress Releases\\nContact Us\\nPrivacy Policy\\nSite Map\\nTerms of Service\\nCareers\\nCalifornia Privacy Rights\\nAnnual Reports\\nAccessibility Statement\\nPatient Forms\\nIf you are experiencing domestic violence, intimate partner abuse, or are a victim of a crime, reach out to our\\nSTOP Violence Program (SVP).\\nCall 323-860-5806\\nLearn More\\nWelcome to our new website. We’ve moved things around so if you can’t find what you’re looking for, we want to help!\\nSearch Our Site\\nContact Us\\nIf you are experiencing domestic violence, intimate partner abuse, or are a victim of a crime, reach out to our\\nSTOP Violence Program (SVP).\\nCall 323-860-5806\\nLearn More\\nWelcome to our new website. We’ve moved things around so if you can’t find what you’re looking for, we want to help!\\nSearch Our Site\\nContact Us\\n\\n\""
      ]
     },
     "execution_count": 13,
     "metadata": {},
     "output_type": "execute_result"
    }
   ],
   "source": [
    "get_all_details('https://lalgbtcenter.org/')"
   ]
  },
  {
   "cell_type": "markdown",
   "id": "63941a16-6eea-408b-b60b-d28f03be63e5",
   "metadata": {},
   "source": [
    "GPT-4o-mini system prompt to the the most important information for the brochure"
   ]
  },
  {
   "cell_type": "code",
   "execution_count": 14,
   "id": "3a5f10f1-093c-4d09-bb76-0b811ae7ddce",
   "metadata": {},
   "outputs": [],
   "source": [
    "system_prompt = \"You are an assistant that analyzes the contents of several relevant pages from a company website \\\n",
    "and creates a short brochure about the company for prospective customers, investors and recruits. Respond in markdown.\\\n",
    "Include details of company culture, customers and careers/jobs if you have the information.\""
   ]
  },
  {
   "cell_type": "markdown",
   "id": "9774329a-378e-4021-b688-b51a62c1719b",
   "metadata": {},
   "source": [
    "GPT-4o-mini user prompt to get the most relevant information for the brochure truncated to 20'000 characters"
   ]
  },
  {
   "cell_type": "code",
   "execution_count": 15,
   "id": "deb47fec-1ce9-44c7-8cd5-d6bf1f1de94f",
   "metadata": {},
   "outputs": [],
   "source": [
    "def get_brochure_user_prompt(company_name, url):\n",
    "    user_prompt = f\"You are looking at a company called: {company_name}\\n\"\n",
    "    user_prompt += f\"Here are the contents of its landing page and other relevant pages; use this information to build a short brochure of the company in markdown.\\n\"\n",
    "    user_prompt += get_all_details(url)\n",
    "    user_prompt = user_prompt[:20_000] # Truncate if more than 20,000 characters\n",
    "    return user_prompt"
   ]
  },
  {
   "cell_type": "code",
   "execution_count": 17,
   "id": "d0673a40-3282-44da-8f5e-161632241d50",
   "metadata": {},
   "outputs": [
    {
     "name": "stdout",
     "output_type": "stream",
     "text": [
      "Found links: {'links': [{'type': 'about page', 'url': 'https://lalgbtcenter.org/about/'}, {'type': 'careers page', 'url': 'https://lalgbtcenter.org/about/careers/'}, {'type': 'services page', 'url': 'https://lalgbtcenter.org/services/'}, {'type': 'our programs page', 'url': 'https://lalgbtcenter.org/our-programs/'}]}\n"
     ]
    },
    {
     "data": {
      "text/plain": [
       "\"You are looking at a company called: Los Angeles LGBT Center\\nHere are the contents of its landing page and other relevant pages; use this information to build a short brochure of the company in markdown.\\nLanding page:\\nWebpage Title:\\nLos Angeles LGBT Center - A Safe Welcoming Space for LGBTQ+\\nWebpage Contents:\\nskip to main content\\nCalendar\\nLocations\\nSearch\\nPortal\\nPatient\\nVolunteer\\nSenior\\nTrans*Lounge\\nen\\nes\\nDonate\\nServices\\nView All Services\\nYouth Services\\nView All Youth Services\\nHousing\\nDrop-In Center\\nEducation\\nEmployment Assistance\\nLifeworks Mentorship Program\\nFoster Youth Services (RISE)\\nSenior Services\\nView All Senior Services\\nHousing\\nCase Management\\nFood & Nutrition Services\\nEmployment Assistance\\nActivities\\nTransgender Services\\nView All Transgender Services\\nTransgender Wellness Center\\nTrans* Lounge\\nEmployment Assistance\\nGroup Therapy\\nTGI/ENBY+ Resource Index\\nSurvivor Services\\nView All Survivor Services\\nHate Crimes and Police Misconduct\\nDomestic Violence, Sexual Assault, and Stalking\\nMedical Services\\nView All Medical Services\\nPrimary Care\\nHIV Care\\nGender Affirming Care\\nAudre Lorde Health Program\\nInsurance Plans\\nPharmacy\\nMental Health & Psychiatry Services\\nView all Mental Health & Psychiatry Services\\nTherapy\\nPsychiatry\\nSupport Groups\\nNational Institute for LGBTQ+ IPV\\nPharmacy\\nSexual Health Services\\nView All Sexual Health Services\\nHIV Testing\\nSTI Testing and Treatment\\nPrEP and PEP Prescriptions\\nSubstance Use & Recovery\\nLegal Services\\nView All Legal Services\\nLegal Clinic & Lawyer Referral\\nImmigrant Legal Services\\nHomeless Youth & Housing Rights\\nCrime, Violence, and Harassment\\nHousing\\nPrograms\\nView All Programs\\nPolicy & Advocacy\\nView All Policy & Advocacy\\nTake Action\\nNational Institute for LGBTQ+ IPV\\nVoter Action\\nCommunity & Support Groups\\nView All Community & Support Groups\\nGroup Therapy\\nTrans* Lounge\\nSocial Network Groups\\nIntersex Support\\nDomestic Violence\\nYouth & Schools\\nView All Youth & Schools\\nLGBTQ+ Students & Allies\\nEducators & Adults\\nTrainings & Technical Assistance\\nView All Trainings & Technical Assistance\\nLGBTQ+ Intimate Partner Violence\\nLGBTQ Competency Training (RISE)\\nMental Health Internship & Training\\nEmployment Assistance\\nVocational Programs\\nView All Vocational Programs\\nCulinary Arts\\nSocial Services\\nResearch\\nAIDS/LifeCycle\\nGet Informed\\nVanguard\\nArticles\\nPress Releases\\nArts & Events\\nGet Involved\\nView All Get Involved\\nVolunteer\\nPolicy & Advocacy\\nLifeworks Mentorship Program\\nCorporate Engagement\\nMake a Legacy Gift\\nBook an Event\\nAbout the Center\\nAbout the Center\\nClient Stories\\nOur Staff\\nContact & Locations\\nCareers\\nDonate\\nServices\\nBack\\nView All Services\\nYouth Services\\nView All Youth Services\\nHousing\\nDrop-In Center\\nEducation\\nEmployment Assistance\\nLifeworks Mentorship Program\\nFoster Youth Services (RISE)\\nSenior Services\\nView All Senior Services\\nHousing\\nCase Management\\nFood & Nutrition Services\\nEmployment Assistance\\nActivities\\nTransgender Services\\nView All Transgender Services\\nTransgender Wellness Center\\nTrans* Lounge\\nEmployment Assistance\\nGroup Therapy\\nTGI/ENBY+ Resource Index\\nSurvivor Services\\nView All Survivor Services\\nHate Crimes and Police Misconduct\\nDomestic Violence, Sexual Assault, and Stalking\\nMedical Services\\nView All Medical Services\\nPrimary Care\\nHIV Care\\nGender Affirming Care\\nAudre Lorde Health Program\\nInsurance Plans\\nPharmacy\\nMental Health & Psychiatry Services\\nView all Mental Health & Psychiatry Services\\nTherapy\\nPsychiatry\\nSupport Groups\\nNational Institute for LGBTQ+ IPV\\nPharmacy\\nSexual Health Services\\nView All Sexual Health Services\\nHIV Testing\\nSTI Testing and Treatment\\nPrEP and PEP Prescriptions\\nSubstance Use & Recovery\\nLegal Services\\nView All Legal Services\\nLegal Clinic & Lawyer Referral\\nImmigrant Legal Services\\nHomeless Youth & Housing Rights\\nCrime, Violence, and Harassment\\nHousing\\nPrograms\\nBack\\nView All Programs\\nPolicy & Advocacy\\nView All Policy & Advocacy\\nTake Action\\nNational Institute for LGBTQ+ IPV\\nVoter Action\\nCommunity & Support Groups\\nView All Community & Support Groups\\nGroup Therapy\\nTrans* Lounge\\nSocial Network Groups\\nIntersex Support\\nDomestic Violence\\nYouth & Schools\\nView All Youth & Schools\\nLGBTQ+ Students & Allies\\nEducators & Adults\\nTrainings & Technical Assistance\\nView All Trainings & Technical Assistance\\nLGBTQ+ Intimate Partner Violence\\nLGBTQ Competency Training (RISE)\\nMental Health Internship & Training\\nEmployment Assistance\\nVocational Programs\\nView All Vocational Programs\\nCulinary Arts\\nSocial Services\\nResearch\\nAIDS/LifeCycle\\nGet Informed\\nBack\\nVanguard\\nArticles\\nPress Releases\\nArts & Events\\nGet Involved\\nBack\\nView All Get Involved\\nVolunteer\\nPolicy & Advocacy\\nLifeworks Mentorship Program\\nCorporate Engagement\\nMake a Legacy Gift\\nBook an Event\\nAbout the Center\\nBack\\nAbout the Center\\nClient Stories\\nOur Staff\\nContact & Locations\\nCareers\\nPatient\\nVolunteer\\nSenior\\nTrans*Lounge\\nCalendar\\nLocations\\nSearch\\nDonate\\nTrans Day of Remembrance\\nJoin us on Nov. 20 to honor those we've lost to anti-trans violence.\\nRSVP Now\\nImproved and Expanded Patient Experiences Coming to McDonald/Wright in 2025\\nNew patient exam rooms, waiting areas to open in early 2025.\\nLearn More\\nHow Can We Help?\\nServices\\nPrograms\\nGet Informed\\nArts & Events\\nGet Involved\\nAbout\\nYouth Services\\nSenior Services\\nTransgender Services\\nSurvivor Services\\nMedical Services\\nMental Health & Psychiatry Services\\nSexual Health Services\\nSubstance Use and Recovery Services\\nLegal Services\\nHousing\\nPolicy & Advocacy\\nCommunity & Support Groups\\nYouth & Schools\\nTrainings & Technical Assistance\\nVocational Programs\\nResearch\\nVanguard\\nPress Releases\\nCollections\\nArts & Events\\nVolunteer\\nPolicy & Advocacy\\nLifeworks Mentorship Program\\nCorporate Engagement\\nMake a Legacy Gift\\nSpaces\\nAbout the Center\\nClient Stories\\nStaff\\nContact Us\\nHow You Can Help\\nYour support allows us to continue to provide a safe, welcoming space for those who need help—and hope—the most. Whether you choose to make a one-time or monthly donation, sign up for one of our many incredible volunteer opportunities, or even join our team, every gesture of support is appreciated.\\nDonate\\nTake Action Against Anti-LGBTQ+ Legislation\\nVolunteer at the Center\\nOur Reach\\n500,000\\nVisits to the Center in 2022\\n800\\nTeam Members\\nWorld's Largest\\nDirect Service Provider to LGBTQ+ People\\n117,286\\nMeals Prepared & Served by Culinary Arts\\n55,643\\nMedical & Mental Health Visits in FY23\\n500,000\\nVisits to the Center in 2022\\n800\\nTeam Members\\nWorld's Largest\\nDirect Service Provider to LGBTQ+ People\\n117,286\\nMeals Prepared & Served by Culinary Arts\\n55,643\\nMedical & Mental Health Visits in FY23\\nOur Community\\nWatch • 12:03\\nNicole Richie Volunteers at the Los Angeles LGBT Center\\nWant to take a tour of the Center from the comfort of your own home? Watch as Nicole visits with LGBTQ youth for a runway show, surprises a Senior Line Dance class, stops by our kitchen in Culinary Arts, auditions for the role of a lifetime in Cultural Arts, and gets a therapy lesson with Mental Health Services.\\nWatch • 12:03\\nNicole Richie Volunteers at the Los Angeles LGBT Center\\nWant to take a tour of the Center from the comfort of your own home? Watch as Nicole visits with LGBTQ youth for a runway show, surprises a Senior Line Dance class, stops by our kitchen in Culinary Arts, auditions for the role of a lifetime in Cultural Arts, and gets a therapy lesson with Mental Health Services.\\nFeatured Programs and Services\\nView All\\nHousing\\nMedical Services\\nSenior Services\\nHousing\\nMedical Services\\nSenior Services\\nThe Latest\\nView All\\nUncategorized\\n‘We Will Get Through This’: Rep. Kamlager-Dove Energizes Center Community in Post-Election Gathering\\nOn Nov. 7, the Los Angeles LGBT Center hosted a post-election community space to process the results of the 2024 presidential election and the return of Donald Trump to the White House. “Yesterday, the majority of voters in this country re-elected the most dangerous president to ever occupy the White House,” said CEO Joe Hollendoner […]\\nNov 8, 2024\\nHealth & Wellness\\n‘We’ve Always Existed’:\\xa0 Amplifying Intersex Voices on Intersex Awareness Day\\nIntersex Awareness Day, observed annually on October 26, marks a crucial moment for visibility and advocacy in the intersex community. The tradition began in 1996, commemorating the first public demonstration by intersex activists in Boston, which aimed to challenge harmful medical practices and the erasure of intersex people. Today, the day serves as a platform […]\\nOct 26, 2024\\n·\\xa0\\xa0Reid Nakamura\\nEvents\\nBretman Rock, VINCINT, and Hundreds of LGBTQ+ Youth Shine at 32nd Annual Models of Pride\\nOn October 20, the Los Angeles LGBT Center hosted its 32nd annual Models of Pride festival, transforming the Anita May Rosenstein Campus in Hollywood into a vibrant space for LGBTQ+ youth, families, and allies. Presented by BMO, this year’s event welcomed over 600 attendees for a day packed with workshops, performances, and awards that celebrated […]\\nOct 25, 2024\\n·\\xa0\\xa0Reid Nakamura\\nAction Name\\nJoin us in our mission to create a world where LGBTQ+ people thrive as healthy, equal, and complete members of society. If you are experiencing domestic violence, intimate partner abuse, or are a victim of a crime, reach out to our\\nSTOP Violence Program (SVP)\\n.\\nDonate Now\\nStay Up To Date\\nPress Releases\\nContact Us\\nPrivacy Policy\\nSite Map\\nTerms of Service\\nCareers\\nCalifornia Privacy Rights\\nAnnual Reports\\nAccessibility Statement\\nPatient Forms\\nIf you are experiencing domestic violence, intimate partner abuse, or are a victim of a crime, reach out to our\\nSTOP Violence Program (SVP).\\nCall 323-860-5806\\nLearn More\\nWelcome to our new website. We’ve moved things around so if you can’t find what you’re looking for, we want to help!\\nSearch Our Site\\nContact Us\\nIf you are experiencing domestic violence, intimate partner abuse, or are a victim of a crime, reach out to our\\nSTOP Violence Program (SVP).\\nCall 323-860-5806\\nLearn More\\nWelcome to our new website. We’ve moved things around so if you can’t find what you’re looking for, we want to help!\\nSearch Our Site\\nContact Us\\n\\n\\n\\nabout page\\nWebpage Title:\\nAbout the Center - Los Angeles LGBT Center\\nWebpage Contents:\\nskip to main content\\nCalendar\\nLocations\\nSearch\\nPortal\\nPatient\\nVolunteer\\nSenior\\nTrans*Lounge\\nen\\nes\\nDonate\\nServices\\nView All Services\\nYouth Services\\nView All Youth Services\\nHousing\\nDrop-In Center\\nEducation\\nEmployment Assistance\\nLifeworks Mentorship Program\\nFoster Youth Services (RISE)\\nSenior Services\\nView All Senior Services\\nHousing\\nCase Management\\nFood & Nutrition Services\\nEmployment Assistance\\nActivities\\nTransgender Services\\nView All Transgender Services\\nTransgender Wellness Center\\nTrans* Lounge\\nEmployment Assistance\\nGroup Therapy\\nTGI/ENBY+ Resource Index\\nSurvivor Services\\nView All Survivor Services\\nHate Crimes and Police Misconduct\\nDomestic Violence, Sexual Assault, and Stalking\\nMedical Services\\nView All Medical Services\\nPrimary Care\\nHIV Care\\nGender Affirming Care\\nAudre Lorde Health Program\\nInsurance Plans\\nPharmacy\\nMental Health & Psychiatry Services\\nView all Mental Health & Psychiatry Services\\nTherapy\\nPsychiatry\\nSupport Groups\\nNational Institute for LGBTQ+ IPV\\nPharmacy\\nSexual Health Services\\nView All Sexual Health Services\\nHIV Testing\\nSTI Testing and Treatment\\nPrEP and PEP Prescriptions\\nSubstance Use & Recovery\\nLegal Services\\nView All Legal Services\\nLegal Clinic & Lawyer Referral\\nImmigrant Legal Services\\nHomeless Youth & Housing Rights\\nCrime, Violence, and Harassment\\nHousing\\nPrograms\\nView All Programs\\nPolicy & Advocacy\\nView All Policy & Advocacy\\nTake Action\\nNational Institute for LGBTQ+ IPV\\nVoter Action\\nCommunity & Support Groups\\nView All Community & Support Groups\\nGroup Therapy\\nTrans* Lounge\\nSocial Network Groups\\nIntersex Support\\nDomestic Violence\\nYouth & Schools\\nView All Youth & Schools\\nLGBTQ+ Students & Allies\\nEducators & Adults\\nTrainings & Technical Assistance\\nView All Trainings & Technical Assistance\\nLGBTQ+ Intimate Partner Violence\\nLGBTQ Competency Training (RISE)\\nMental Health Internship & Training\\nEmployment Assistance\\nVocational Programs\\nView All Vocational Programs\\nCulinary Arts\\nSocial Services\\nResearch\\nAIDS/LifeCycle\\nGet Informed\\nVanguard\\nArticles\\nPress Releases\\nArts & Events\\nGet Involved\\nView All Get Involved\\nVolunteer\\nPolicy & Advocacy\\nLifeworks Mentorship Program\\nCorporate Engagement\\nMake a Legacy Gift\\nBook an Event\\nAbout the Center\\nAbout the Center\\nClient Stories\\nOur Staff\\nContact & Locations\\nCareers\\nDonate\\nServices\\nBack\\nView All Services\\nYouth Services\\nView All Youth Services\\nHousing\\nDrop-In Center\\nEducation\\nEmployment Assistance\\nLifeworks Mentorship Program\\nFoster Youth Services (RISE)\\nSenior Services\\nView All Senior Services\\nHousing\\nCase Management\\nFood & Nutrition Services\\nEmployment Assistance\\nActivities\\nTransgender Services\\nView All Transgender Services\\nTransgender Wellness Center\\nTrans* Lounge\\nEmployment Assistance\\nGroup Therapy\\nTGI/ENBY+ Resource Index\\nSurvivor Services\\nView All Survivor Services\\nHate Crimes and Police Misconduct\\nDomestic Violence, Sexual Assault, and Stalking\\nMedical Services\\nView All Medical Services\\nPrimary Care\\nHIV Care\\nGender Affirming Care\\nAudre Lorde Health Program\\nInsurance Plans\\nPharmacy\\nMental Health & Psychiatry Services\\nView all Mental Health & Psychiatry Services\\nTherapy\\nPsychiatry\\nSupport Groups\\nNational Institute for LGBTQ+ IPV\\nPharmacy\\nSexual Health Services\\nView All Sexual Health Services\\nHIV Testing\\nSTI Testing and Treatment\\nPrEP and PEP Prescriptions\\nSubstance Use & Recovery\\nLegal Services\\nView All Legal Services\\nLegal Clinic & Lawyer Referral\\nImmigrant Legal Services\\nHomeless Youth & Housing Rights\\nCrime, Violence, and Harassment\\nHousing\\nPrograms\\nBack\\nView All Programs\\nPolicy & Advocacy\\nView All Policy & Advocacy\\nTake Action\\nNational Institute for LGBTQ+ IPV\\nVoter Action\\nCommunity & Support Groups\\nView All Community & Support Groups\\nGroup Therapy\\nTrans* Lounge\\nSocial Network Groups\\nIntersex Support\\nDomestic Violence\\nYouth & Schools\\nView All Youth & Schools\\nLGBTQ+ Students & Allies\\nEducators & Adults\\nTrainings & Technical Assistance\\nView All Trainings & Technical Assistance\\nLGBTQ+ Intimate Partner Violence\\nLGBTQ Competency Training (RISE)\\nMental Health Internship & Training\\nEmployment Assistance\\nVocational Programs\\nView All Vocational Programs\\nCulinary Arts\\nSocial Services\\nResearch\\nAIDS/LifeCycle\\nGet Informed\\nBack\\nVanguard\\nArticles\\nPress Releases\\nArts & Events\\nGet Involved\\nBack\\nView All Get Involved\\nVolunteer\\nPolicy & Advocacy\\nLifeworks Mentorship Program\\nCorporate Engagement\\nMake a Legacy Gift\\nBook an Event\\nAbout the Center\\nBack\\nAbout the Center\\nClient Stories\\nOur Staff\\nContact & Locations\\nCareers\\nPatient\\nVolunteer\\nSenior\\nTrans*Lounge\\nCalendar\\nLocations\\nSearch\\nDonate\\nOur Vision\\nMore than 50 years ago, a group of queer activists came together to share a dream. After fighting for equality in protests, demonstrations, and parades, they wondered: What if we created the world we’ve been waiting for?\\nSo they launched Liberation House—a shelter that provided a safe space for LGBTQ+ people. But as demand from the community grew, so did the dream. And now, decades later, we’ve gone from one tiny home to becoming the Los Angeles LGBT Center:\\nthe largest LGBTQ+ organization in the world\\n.\\nWe’re the fulfillment of their dream, innovating a holistic model of care that houses, nourishes, heals, and celebrates our people.\\nEvery single day, our doors are open\\n—whether you’re a youth who needs a place to belong, or a senior who’s ready to live life fabulously. Then, we take what we learn on the frontlines to advocate for our community everywhere.\\nNo matter what fight lies ahead—and we know, it’s going to be a tough one—we can always call upon our radical roots to hold us firm. Our founders’ dreams planted the seeds, and we stand among their flowers. Because everyone deserves to bloom, to shine, to love, and to live freely.\\nThat’s why we’ll always be here:\\nto fight like hell for our right to do just that\\n.\\nWatch • 2:00\\nWelcome to the Center!\\nEverything you need to know about us—from our holistic model of care to our unmatched size and scope—in two minutes or less.\\nWatch • 2:00\\nWelcome to the Center!\\nEverything you need to know about us—from our holistic model of care to our unmatched size and scope—in two minutes or less.\\nOur Mission\\nSince 1969, the Los Angeles LGBT Center has cared for, championed, and celebrated LGBTQ individuals and families in Los Angeles and beyond.\\nToday, the Center’s nearly 800 employees provide services for more queer and trans people than any other organization in the world—offering programs, services, and global advocacy that span four broad categories: Health, Social Services and Housing, Culture and Education, and Leadership and Advocacy.\\nWe are an unstoppable force in the fight against bigotry and the struggle to build a better world—a world in which LGBTQ people can be healthy, equal, and complete members of society.\\nJoin Our Cause\\nOur founders’ dreams planted the seeds—\\nand we stand among their flowers.\\nOur Values\\nRespect\\nWe provide a workplace and service environment where individuality is seen as strength and all people are treated with fairness and dignity.\\nExcellence\\nWe dedicate ourselves to the highest quality in all our programs and services, and seek employees, volunteers, and supporters who have a passion for helping others.\\nInclusivity\\nWe believe in the need for different perspectives and commit ourselves to representation from all members of our diverse community.\\nInnovation\\nWe vigorously support pioneering programs and advocacy to meet community needs.\\nIntegrity\\nWe work together to advance the Center's mission, and we honor and apply these values in what we do and say.\\nOur Reach\\nWorld's Largest\\nLGBTQ+ Nonprofit and Direct Service Provider\\n50+\\nYears of Service\\n500,000+\\nVisits to the Center Per Year\\n800\\nTeam Members\\n10\\nLocations\\nWorld's Largest\\nLGBTQ+ Nonprofit and Direct Service Provider\\n50+\\nYears of Service\\n500,000+\\nVisits to the Center Per Year\\n800\\nTeam Members\\n10\\nLocations\\nOur Recognition\\nWe Pride Ourselves on Standing Out. Just Like You.\\nSilver Seal of Transparency\\nGuidestar\\n★★★★\\nCharity Navigator\\nHighest rating awarded for 11 consecutive years\\nPress Releases\\nLos Angeles LGBT Center Statement on the 2024 Presidential Election Results, Proposition 3 & Measure A Victories, and the Historic Election of the First Openly Transgender Member of Congress\\nLos Angeles LGBT Center Statement on the 2024 Presidential Election Results, Proposition 3 & Measure A Victories, and the Historic Election of the First Openly Transgender Member of Congress LOS ANGELES, November 6, 2024—In response to the November 5th election results,\\xa0the Los Angeles LGBT Center CEO Joe Hollendoner issued the following statement: \\xa0 “In the […]\\nNov 6, 2024\\nLos Angeles LGBT Center Partners with LA County Registrar-Recorder Office on Early Voting Sites Across the City\\nLos Angeles LGBT Center Partners with LA County Registrar-Recorder Office on Early Voting Sites Across the City Voting Centers Open Friday, Nov. 1st in Hollywood, Boyle Heights and South LA\\xa0– LOS ANGELES, October 31, 2024—The Los Angeles LGBT Center is thrilled to announce the opening of three community vote centers across Los Angeles, providing accessible […]\\nOct 31, 2024\\nLos Angeles LGBT Center Hosts Hundreds of LGBTQ+ Youth, Families at 32nd Anniversary Models of Pride Festival\\nLos Angeles LGBT Center Hosts Hundreds of LGBTQ+ Youth, Families at 32nd Anniversary Models of Pride Festival Social media sensation Bretman Rock was on hand to accept the Model of Pride Award\\xa0Presented by BMO –Models of Pride Event Photography\\xa0Talent + Program Images Here\\xa0Courtesy of Los Angeles LGBT Center– LOS ANGELES, October 21, 2024 — On […]\\nOct 21, 2024\\nLearn More About Our Services\\nMedical Services\\nYouth Services\\nSenior Services\\nMedical Services\\nYouth Services\\nSenior Services\\nAction Name\\nJoin us in our mission to create a world where LGBTQ+ people thrive as healthy, equal, and complete members of society. If you are experiencing domestic violence, intimate partner abuse, or are a victim of a crime, reach out to our\\nSTOP Violence Program (SVP)\\n.\\nDonate Now\\nStay Up To Date\\nPress R\""
      ]
     },
     "execution_count": 17,
     "metadata": {},
     "output_type": "execute_result"
    }
   ],
   "source": [
    "get_brochure_user_prompt('Los Angeles LGBT Center', 'https://lalgbtcenter.org/')"
   ]
  },
  {
   "cell_type": "markdown",
   "id": "c7fdceeb-45dc-4ba2-a7d4-064025cb1cc9",
   "metadata": {},
   "source": [
    "Defining a class to streaming the brochure Open AI"
   ]
  },
  {
   "cell_type": "code",
   "execution_count": 18,
   "id": "f0505d25-ee7c-4df1-bd5a-b8688fa6a6d7",
   "metadata": {},
   "outputs": [],
   "source": [
    "def stream_brochure(company_name, url):\n",
    "    stream = openai.chat.completions.create(\n",
    "        model=MODEL,\n",
    "        messages=[\n",
    "            {\"role\": \"system\", \"content\": system_prompt},\n",
    "            {\"role\": \"user\", \"content\": get_brochure_user_prompt(company_name, url)}\n",
    "          ],\n",
    "        stream=True\n",
    "    )\n",
    "    \n",
    "    response = \"\"\n",
    "    display_handle = display(Markdown(\"\"), display_id=True)\n",
    "    for chunk in stream:\n",
    "        response += chunk.choices[0].delta.content or ''\n",
    "        response = response.replace(\"```\",\"\").replace(\"markdown\", \"\")\n",
    "        update_display(Markdown(response), display_id=display_handle.display_id)"
   ]
  },
  {
   "cell_type": "code",
   "execution_count": 19,
   "id": "06bdc0f6-f850-4526-bc55-02ca01ecbf46",
   "metadata": {},
   "outputs": [
    {
     "name": "stdout",
     "output_type": "stream",
     "text": [
      "Found links: {'links': [{'type': 'about page', 'url': 'https://lalgbtcenter.org/about/'}, {'type': 'careers page', 'url': 'https://lalgbtcenter.org/about/careers/'}, {'type': 'services page', 'url': 'https://lalgbtcenter.org/services/'}, {'type': 'donate page', 'url': 'https://donate.lalgbtcenter.org/donate/'}, {'type': 'programs page', 'url': 'https://lalgbtcenter.org/our-programs/'}]}\n"
     ]
    },
    {
     "data": {
      "text/markdown": [
       "# Los Angeles LGBT Center\n",
       "\n",
       "---\n",
       "\n",
       "## A Safe and Welcoming Space for LGBTQ+\n",
       "\n",
       "Since its inception in 1969, the **Los Angeles LGBT Center** has emerged as the largest LGBTQ+ organization worldwide, providing invaluable support and services to the community. \n",
       "\n",
       "## Our Mission\n",
       "\n",
       "We care for, champion, and celebrate LGBTQ individuals and families, ensuring they can thrive as healthy, equal, and complete members of society. Our diverse range of programs spans four primary areas:\n",
       "\n",
       "- **Health**\n",
       "- **Social Services and Housing**\n",
       "- **Culture and Education**\n",
       "- **Leadership and Advocacy**\n",
       "\n",
       "## Our Vision\n",
       "\n",
       "Founded by a group of passionate activists, we started as a humble shelter and have evolved into a multifaceted service provider. We aim to cultivate a world where everyone can bloom, shine, and live freely, regardless of their sexual orientation or gender identity.\n",
       "\n",
       "## Our Services\n",
       "\n",
       "The Center offers over **40 unique services**, including, but not limited to:\n",
       "\n",
       "- **Youth Services**\n",
       "  - Lifeworks Mentorship Program\n",
       "  - Foster Youth Services\n",
       "- **Transgender Services**\n",
       "  - Transgender Wellness Center\n",
       "  - Group Therapy\n",
       "- **Medical Services**\n",
       "  - Primary Care, including HIV and Gender Affirming Care\n",
       "  - Mental Health & Psychiatry Services\n",
       "- **Legal Services**\n",
       "  - Legal Clinic & Lawyer Referral\n",
       "  - Immigrant Legal Services\n",
       "- **Housing Services**\n",
       "  - Case Management and Shelter Resources\n",
       "\n",
       "---\n",
       "\n",
       "## Company Culture\n",
       "\n",
       "### Our Values\n",
       "\n",
       "- **Respect**: Embracing individuality and treating everyone with dignity.\n",
       "- **Excellence**: Committing to high-quality services and support.\n",
       "- **Inclusivity**: Fostering diverse representation and perspectives.\n",
       "- **Innovation**: Pioneering programs to meet community needs.\n",
       "- **Integrity**: Honor our mission through honest collaboration.\n",
       "\n",
       "### Community Involvement\n",
       "\n",
       "With **over 500,000 visits** annually and **800 dedicated staff members**, the Center stands tall as a beacon of hope and support. The community thrives on our engagement, which includes a wide array of social events and advocacy efforts.\n",
       "\n",
       "---\n",
       "\n",
       "## Careers\n",
       "\n",
       "Join our dynamic team and contribute directly to positive change. The Los Angeles LGBT Center is continuously seeking passionate individuals who are committed to serving the LGBTQ+ community. Opportunities range from direct service roles to support functions across various departments.\n",
       "\n",
       "### **Open Job Positions**\n",
       "- Direct Service Providers\n",
       "- Community Advocates\n",
       "- Mental Health Professionals\n",
       "- Administrative Support\n",
       "\n",
       "---\n",
       "\n",
       "## Get Involved\n",
       "\n",
       "### Volunteer\n",
       "Your time can make a difference! We offer various volunteer opportunities tailored to different interests and expertise.\n",
       "\n",
       "### Donations\n",
       "Support us in our mission to create a safe and welcoming environment. Your donations enable us to expand our reach and enhance our services.\n",
       "\n",
       "---\n",
       "\n",
       "For more information, visit our website or contact us!\n",
       "\n",
       "**Together, we can create a world where LGBTQ+ people can thrive.**"
      ],
      "text/plain": [
       "<IPython.core.display.Markdown object>"
      ]
     },
     "metadata": {},
     "output_type": "display_data"
    }
   ],
   "source": [
    "stream_brochure('Los Angeles LGBT Center', 'https://lalgbtcenter.org/')"
   ]
  }
 ],
 "metadata": {
  "kernelspec": {
   "display_name": "Python 3 (ipykernel)",
   "language": "python",
   "name": "python3"
  },
  "language_info": {
   "codemirror_mode": {
    "name": "ipython",
    "version": 3
   },
   "file_extension": ".py",
   "mimetype": "text/x-python",
   "name": "python",
   "nbconvert_exporter": "python",
   "pygments_lexer": "ipython3",
   "version": "3.11.10"
  }
 },
 "nbformat": 4,
 "nbformat_minor": 5
}
